{
 "cells": [
  {
   "cell_type": "markdown",
   "id": "3e989257",
   "metadata": {},
   "source": [
    "### Finetuning BERT base on Yelp Dataset  \n",
    "The preprocessing functions defined in the `Preprocessing SST2, IMDb, Yelp Datasets.ipynb` jupyter notebook were used. <br>\n",
    "1/2 star reviews are categorized to have negative sentiments while 3/4/5 star reviews are categorized to have positive sentiments."
   ]
  },
  {
   "cell_type": "code",
   "execution_count": 1,
   "id": "eeb2e118",
   "metadata": {
    "scrolled": true
   },
   "outputs": [
    {
     "name": "stderr",
     "output_type": "stream",
     "text": [
      "2022-11-10 21:01:01.354098: I tensorflow/core/platform/cpu_feature_guard.cc:193] This TensorFlow binary is optimized with oneAPI Deep Neural Network Library (oneDNN) to use the following CPU instructions in performance-critical operations:  AVX2 FMA\n",
      "To enable them in other operations, rebuild TensorFlow with the appropriate compiler flags.\n",
      "2022-11-10 21:01:01.451358: E tensorflow/stream_executor/cuda/cuda_blas.cc:2981] Unable to register cuBLAS factory: Attempting to register factory for plugin cuBLAS when one has already been registered\n",
      "2022-11-10 21:01:01.822350: W tensorflow/stream_executor/platform/default/dso_loader.cc:64] Could not load dynamic library 'libnvinfer.so.7'; dlerror: libnvinfer.so.7: cannot open shared object file: No such file or directory; LD_LIBRARY_PATH: :/home/weiming/miniconda3/envs/weiming/lib/\n",
      "2022-11-10 21:01:01.822394: W tensorflow/stream_executor/platform/default/dso_loader.cc:64] Could not load dynamic library 'libnvinfer_plugin.so.7'; dlerror: libnvinfer_plugin.so.7: cannot open shared object file: No such file or directory; LD_LIBRARY_PATH: :/home/weiming/miniconda3/envs/weiming/lib/\n",
      "2022-11-10 21:01:01.822398: W tensorflow/compiler/tf2tensorrt/utils/py_utils.cc:38] TF-TRT Warning: Cannot dlopen some TensorRT libraries. If you would like to use Nvidia GPU with TensorRT, please make sure the missing libraries mentioned above are installed properly.\n"
     ]
    },
    {
     "name": "stdout",
     "output_type": "stream",
     "text": [
      "cuda:0\n"
     ]
    }
   ],
   "source": [
    "import torch\n",
    "import numpy as np\n",
    "import pandas as pd \n",
    "from transformers.models.bert.modeling_bert import BertForSequenceClassification\n",
    "from transformers import AutoTokenizer\n",
    "from transformers import TrainingArguments, Trainer, TrainerCallback\n",
    "from datasets import load_dataset, load_metric \n",
    "import datasets\n",
    "import random\n",
    "import matplotlib.pyplot as plt\n",
    "import evaluate\n",
    "import json\n",
    "\n",
    "\n",
    "device = \"cuda:0\" if torch.cuda.is_available() else \"cpu\"\n",
    "print(device)"
   ]
  },
  {
   "cell_type": "code",
   "execution_count": 2,
   "id": "2b875d0a",
   "metadata": {},
   "outputs": [],
   "source": [
    "def compute_metrics(eval_preds):\n",
    "    metric = evaluate.load(\"accuracy\")\n",
    "    logits, labels = eval_preds\n",
    "    predictions = np.argmax(logits, axis=-1)\n",
    "    return metric.compute(predictions=predictions, references=labels)\n",
    "\n",
    "class CustomTrainer(Trainer):\n",
    "    def _maybe_log_save_evaluate(self, tr_loss, model, trial, epoch, ignore_keys_for_eval):\n",
    "        if self.control.should_log:\n",
    "\n",
    "            logs: Dict[str, float] = {}\n",
    "\n",
    "            # all_gather + mean() to get average loss over all processes\n",
    "            tr_loss_scalar = self._nested_gather(tr_loss).mean().item()\n",
    "\n",
    "            # reset tr_loss to zero\n",
    "            tr_loss -= tr_loss\n",
    "            \n",
    "            \n",
    "            logs[\"loss\"] = round(tr_loss_scalar / (self.state.global_step - self._globalstep_last_logged), 4)\n",
    "            logs[\"accuracy\"] = self.predict(test_dataset=self.train_dataset, metric_key_prefix=\"train\").metrics['train_accuracy']\n",
    "            logs[\"learning_rate\"] = self._get_learning_rate()\n",
    "\n",
    "            self._total_loss_scalar += tr_loss_scalar\n",
    "            self._globalstep_last_logged = self.state.global_step\n",
    "            self.store_flos()\n",
    "\n",
    "            self.log(logs)\n",
    "\n",
    "        metrics = None\n",
    "        if self.control.should_evaluate:\n",
    "            metrics = self.evaluate(ignore_keys=ignore_keys_for_eval)\n",
    "            self._report_to_hp_search(trial, epoch, metrics)\n",
    "\n",
    "        if self.control.should_save:\n",
    "            self._save_checkpoint(model, trial, metrics=metrics)\n",
    "            self.control = self.callback_handler.on_save(self.args, self.state, self.control)\n",
    "\n",
    "\n",
    "def show_random_elements(dataset, num_examples=10):\n",
    "    assert num_examples <= len(dataset), \"Can't pick more elements than there are in the dataset.\"\n",
    "    picks = []\n",
    "    for _ in range(num_examples):\n",
    "        pick = random.randint(0, len(dataset)-1)\n",
    "        while pick in picks:\n",
    "            pick = random.randint(0, len(dataset)-1)\n",
    "        picks.append(pick)\n",
    "    \n",
    "    df = pd.DataFrame(dataset[picks])\n",
    "    for column, typ in dataset.features.items():\n",
    "        if isinstance(typ, datasets.ClassLabel):\n",
    "            df[column] = df[column].transform(lambda i: typ.names[i])\n",
    "    pd.set_option('display.max_colwidth', None)\n",
    "    return df\n",
    "\n",
    "### Function to extract training history from json file           \n",
    "def get_history(filename):\n",
    "    num_epochs_trained = 0\n",
    "    train_loss_list = []\n",
    "    train_acc_list = []\n",
    "    val_loss_list = []\n",
    "    val_acc_list = []\n",
    "    \n",
    "    f = open(filename, \"r\")\n",
    "    history = json.load(f)['log_history']\n",
    "    \n",
    "    for i in range(0, len(history), 2):\n",
    "        num_epochs_trained += 1\n",
    "        # Train \n",
    "        train_loss_list.append(history[i]['loss'])\n",
    "        train_acc_list.append(history[i]['accuracy'])\n",
    "        \n",
    "        # Validation\n",
    "        val_loss_list.append(history[i + 1]['eval_loss'])\n",
    "        val_acc_list.append(history[i + 1]['eval_accuracy'])\n",
    "    \n",
    "    return num_epochs_trained, train_loss_list, train_acc_list, val_loss_list, val_acc_list"
   ]
  },
  {
   "cell_type": "code",
   "execution_count": 3,
   "id": "070668c1",
   "metadata": {},
   "outputs": [
    {
     "name": "stderr",
     "output_type": "stream",
     "text": [
      "Found cached dataset yelp_review_full (/home/weiming/.cache/huggingface/datasets/yelp_review_full/yelp_review_full/1.0.0/e8e18e19d7be9e75642fc66b198abadb116f73599ec89a69ba5dd8d1e57ba0bf)\n"
     ]
    },
    {
     "data": {
      "application/vnd.jupyter.widget-view+json": {
       "model_id": "b8212a92d39e4c1ab874fda7189d3069",
       "version_major": 2,
       "version_minor": 0
      },
      "text/plain": [
       "  0%|          | 0/2 [00:00<?, ?it/s]"
      ]
     },
     "metadata": {},
     "output_type": "display_data"
    },
    {
     "data": {
      "text/plain": [
       "DatasetDict({\n",
       "    train: Dataset({\n",
       "        features: ['label', 'text'],\n",
       "        num_rows: 650000\n",
       "    })\n",
       "    test: Dataset({\n",
       "        features: ['label', 'text'],\n",
       "        num_rows: 50000\n",
       "    })\n",
       "})"
      ]
     },
     "execution_count": 3,
     "metadata": {},
     "output_type": "execute_result"
    }
   ],
   "source": [
    "### Loading Yelp Dataset from HuggingFace\n",
    "### https://huggingface.co/datasets/yelp_review_full\n",
    "dataset = load_dataset('yelp_review_full')\n",
    "dataset"
   ]
  },
  {
   "cell_type": "code",
   "execution_count": 4,
   "id": "efdf81d2",
   "metadata": {
    "scrolled": true
   },
   "outputs": [
    {
     "name": "stdout",
     "output_type": "stream",
     "text": [
      "# of Train Sequences: 650000,        # of Validation Sequences: 50000\n"
     ]
    }
   ],
   "source": [
    "print(f\"# of Train Sequences: {len(dataset['train'])},\\\n",
    "        # of Validation Sequences: {len(dataset['test'])}\")"
   ]
  },
  {
   "cell_type": "code",
   "execution_count": 5,
   "id": "d2c10cd8",
   "metadata": {},
   "outputs": [
    {
     "data": {
      "text/html": [
       "<div>\n",
       "<style scoped>\n",
       "    .dataframe tbody tr th:only-of-type {\n",
       "        vertical-align: middle;\n",
       "    }\n",
       "\n",
       "    .dataframe tbody tr th {\n",
       "        vertical-align: top;\n",
       "    }\n",
       "\n",
       "    .dataframe thead th {\n",
       "        text-align: right;\n",
       "    }\n",
       "</style>\n",
       "<table border=\"1\" class=\"dataframe\">\n",
       "  <thead>\n",
       "    <tr style=\"text-align: right;\">\n",
       "      <th></th>\n",
       "      <th>label</th>\n",
       "      <th>text</th>\n",
       "    </tr>\n",
       "  </thead>\n",
       "  <tbody>\n",
       "    <tr>\n",
       "      <th>0</th>\n",
       "      <td>2 star</td>\n",
       "      <td>Ok, so I'm NOT into Country... Sure, I like a little Shania, a little Taylor Swift, and I know the words to \\\"Friends in Low Places\\\" but that's about as far as I go. But when you go to Vegas for someone's birthday, you do what the birthday girl wants. Only fair :)\\n\\nSo like almost every other black person who gets talked into going to a Country bar, I was a little worried about being sidelined by the unfamiliar line dancing and stared down for having a lot of pigment.LOL! But lo and behold, the only line dance for the night was the electric slide! Got that! And there was a United Nations-ish range of diversity throughout the bar. Well, alrighty then! The drinks were ok, and the bar had a lot of seats.... no cover charge or waiting in line either. It's more casual attire than dressy.  Bartenders put on a good show - bottle flipping, stacked shots, free shots, and some kind of simulated fellatio act with a loud alarm for the bachelorette parties. \\n\\nAlthough I had fun with my friends, I was a little disappointed by the overall experience. Call me crazy, but it didn't seem \\\"country enough.\\\" I mean, I wasn't expecting hay and cowboys, but the cover band was kid of a let down. They played some country hits, and some rock hits (Come on Eileen, Take on Me, etc) but they weren't that great and then they just started playing a couple hip hop songs to keep people dancing...but, hello, you can't really dance to a cover version of \\\"California Love\\\"....um no.\\n\\nMy vote.... look for a legit C&amp;W bar somewhere off the strip - not this commercialized space - or just go back to another swanky Vegas club...</td>\n",
       "    </tr>\n",
       "    <tr>\n",
       "      <th>1</th>\n",
       "      <td>3 stars</td>\n",
       "      <td>The atmosphere is conducive to conversation and makes it a good place to meet up. Fair-to-Good quality sushi at normal prices, though there are lunch combos which give a good amount of sushi for the price point. Service was responsive, though the wait for food was a bit longer than I would have liked. Overall, OK.</td>\n",
       "    </tr>\n",
       "    <tr>\n",
       "      <th>2</th>\n",
       "      <td>2 star</td>\n",
       "      <td>This time around wasn't so great. The interior of my car was wiped with dirty rags, and my car smelled like dirty rags until I got home and was able to wipe down the interior myself. They also didn't do quite so well on drying the car off - although I should have probably said something to the guys about doing a better job. Nevertheless, a very disappointing experience, after such positive one just a few months back.</td>\n",
       "    </tr>\n",
       "    <tr>\n",
       "      <th>3</th>\n",
       "      <td>1 star</td>\n",
       "      <td>Tried LaVida because I received a gift certificate for Christmas. Was scheduled with Caitlin by the potty mouth receptionist. Expressed several areas of pain/tightness. She started late, worked some areas I hadn't requested and none of the ones I did. Headache came on later int he evening. Internet research indicates it was due to not working opposing muscle groups, i.e, bad/inexperienced massage therapist.\\nCan't recommend.</td>\n",
       "    </tr>\n",
       "    <tr>\n",
       "      <th>4</th>\n",
       "      <td>1 star</td>\n",
       "      <td>Zine shouldn't be even considered asian food. The Pho is $18 and taste like dark Thai soup. Disgusting. Service was extremely slow and they would not get our order right either. We had a few dim sum items which were just ok and casino prices. I would not come here again for some decent chinese food.</td>\n",
       "    </tr>\n",
       "    <tr>\n",
       "      <th>5</th>\n",
       "      <td>3 stars</td>\n",
       "      <td>Great lunch specials, although the service was slow.  I enjoyed a tomato soup and a salad and both were delicious, but the food took forever to come out (but then again so did out waters...)</td>\n",
       "    </tr>\n",
       "    <tr>\n",
       "      <th>6</th>\n",
       "      <td>5 stars</td>\n",
       "      <td>I had the scallops which were delicious. The creamy polenta was really good and the bacon popcorn was dangerously good! My bf had the tenderloin which he thought was great and I also had the Thai Margarita which had a spicy salted rim and was surprisingly delish. Service was very attentive and not at all pushy. For a mid-range dinner spot, it's as good as it gets! Entrees about $20-35. \\n\\nThe hostess was friendly and accommodating. I highly recommend!</td>\n",
       "    </tr>\n",
       "    <tr>\n",
       "      <th>7</th>\n",
       "      <td>1 star</td>\n",
       "      <td>Komisch ich kann die positiven beitr\\u00e4ge hier gar nicht verstehen. Ich habe immer das selbe Problem laut fahrplan h\\u00e4tte ich noch \\u00fcber 10 minuten zeit f\\u00fcr ein umsteigen auf die bahn, nur der bus kommt nicht.. oder zu sp\\u00e4t oder braucht dann statt 10 fast 20 minuten, und nein das hatt meist nichts mit ampeln oder anderen verkehrsteilnehmern zu tun die behindern w\\u00fcrden sondern fast immer mit dem unverm\\u00f6gen des fahrers / der fahrerin den bus zu steuern, desweiteren wurde ich und auch andere fahrg\\u00e4ste schon ziemlich bl\\u00f6de angeblafft nur weil die fahrkarte beim einsteigen nicht vorgezeigt wurde oder ich nicht schnell genug war ... und wenn ich dann am n\\u00e4chsten tag dran denke schaut nat\\u00fcrlich dieser fahrer dann demonstrativ in die andere richtung ?? h\\u00e4\\u00e4 ??\\n\\nAlles im allen muss ich sagen das ich als t\\u00e4glicher bus und bahn fahrer fast jeden tag keine besonders guten bzw schlechte erfahrungen machen muss, und daf\\u00fcr ziehen die preise dann auch noch dauernd an so als ob die preise nicht eh schon viel zu hoch w\\u00e4ren.\\n\\nW\\u00e4re die parksituation an meinem gesch\\u00e4ft anders w\\u00fcrde ich sicherlich nicht und nie wieder t\\u00e4glich mit bus und bahn fahren wollen und schon gar nicht mit der kvv. keine ahnung ob andere verkehrsunternehmen genauso schlecht sind .. aber ich hoffe mal nicht.</td>\n",
       "    </tr>\n",
       "    <tr>\n",
       "      <th>8</th>\n",
       "      <td>2 star</td>\n",
       "      <td>i feel very indifferent to this place.  the lobster roll did not look appetizing, so we ordered the lobster and chips, a lobsticle, and a lobster grilled cheese, on the recommendation of the people who worked there.  as lunch, this place was extremely heavy.  the lobster and chips were pretty good but it was so very deep fried that we feel a bit gross and greasy afterwards.  actually, it was so heavy that we felt a bit disgusting for the rest of the day. they really skimp on the lobster too...there were maybe five/six small lobster nuggets and the rest were their mediocre fries.  \\n\\nthe only thing that i would recommend getting is the lobsticle!  it's a lobster tail that is smothered in tempura batter and fried (yes, FRIED, again!!!).  it was really good, although pretty small and still cost $12!  the lobster grilled cheese was GROSS to me.  i don't know what kind of white cheese they used but it did not taste good, it was too mayo-ish.  i mean, i love mayo just as much as the next person but really it was like smothered in this mayo cheese.  i would not order that again.</td>\n",
       "    </tr>\n",
       "    <tr>\n",
       "      <th>9</th>\n",
       "      <td>4 stars</td>\n",
       "      <td>My favorite thing about Marshall's is the shoe department and this one does not disappoint. Rows and rows of brand name shoes and a sizable clearance section make my shoe-aholic self tingle with anticipation. \\n\\nI don't frequent this location since it's clear on the other side of town from where I live, but when I'm in the area I always like to check it out for deals. Definitely clean and organized as well, which is a plus.</td>\n",
       "    </tr>\n",
       "  </tbody>\n",
       "</table>\n",
       "</div>"
      ],
      "text/plain": [
       "     label  \\\n",
       "0   2 star   \n",
       "1  3 stars   \n",
       "2   2 star   \n",
       "3   1 star   \n",
       "4   1 star   \n",
       "5  3 stars   \n",
       "6  5 stars   \n",
       "7   1 star   \n",
       "8   2 star   \n",
       "9  4 stars   \n",
       "\n",
       "                                                                                                                                                                                                                                                                                                                                                                                                                                                                                                                                                                                                                                                                                                                                                                                                                                                                                                                                                                                                                                                                                                                                                                                                                                                                                                                                                                                                                                                                                                                                                                                                                                                                                      text  \n",
       "0  Ok, so I'm NOT into Country... Sure, I like a little Shania, a little Taylor Swift, and I know the words to \\\"Friends in Low Places\\\" but that's about as far as I go. But when you go to Vegas for someone's birthday, you do what the birthday girl wants. Only fair :)\\n\\nSo like almost every other black person who gets talked into going to a Country bar, I was a little worried about being sidelined by the unfamiliar line dancing and stared down for having a lot of pigment.LOL! But lo and behold, the only line dance for the night was the electric slide! Got that! And there was a United Nations-ish range of diversity throughout the bar. Well, alrighty then! The drinks were ok, and the bar had a lot of seats.... no cover charge or waiting in line either. It's more casual attire than dressy.  Bartenders put on a good show - bottle flipping, stacked shots, free shots, and some kind of simulated fellatio act with a loud alarm for the bachelorette parties. \\n\\nAlthough I had fun with my friends, I was a little disappointed by the overall experience. Call me crazy, but it didn't seem \\\"country enough.\\\" I mean, I wasn't expecting hay and cowboys, but the cover band was kid of a let down. They played some country hits, and some rock hits (Come on Eileen, Take on Me, etc) but they weren't that great and then they just started playing a couple hip hop songs to keep people dancing...but, hello, you can't really dance to a cover version of \\\"California Love\\\"....um no.\\n\\nMy vote.... look for a legit C&W bar somewhere off the strip - not this commercialized space - or just go back to another swanky Vegas club...  \n",
       "1                                                                                                                                                                                                                                                                                                                                                                                                                                                                                                                                                                                                                                                                                                                                                                                                                                                                                                                                                                                                                                                                                                                                                                                                                                                                                                                                                              The atmosphere is conducive to conversation and makes it a good place to meet up. Fair-to-Good quality sushi at normal prices, though there are lunch combos which give a good amount of sushi for the price point. Service was responsive, though the wait for food was a bit longer than I would have liked. Overall, OK.  \n",
       "2                                                                                                                                                                                                                                                                                                                                                                                                                                                                                                                                                                                                                                                                                                                                                                                                                                                                                                                                                                                                                                                                                                                                                                                                                                                     This time around wasn't so great. The interior of my car was wiped with dirty rags, and my car smelled like dirty rags until I got home and was able to wipe down the interior myself. They also didn't do quite so well on drying the car off - although I should have probably said something to the guys about doing a better job. Nevertheless, a very disappointing experience, after such positive one just a few months back.  \n",
       "3                                                                                                                                                                                                                                                                                                                                                                                                                                                                                                                                                                                                                                                                                                                                                                                                                                                                                                                                                                                                                                                                                                                                                                                                                                             Tried LaVida because I received a gift certificate for Christmas. Was scheduled with Caitlin by the potty mouth receptionist. Expressed several areas of pain/tightness. She started late, worked some areas I hadn't requested and none of the ones I did. Headache came on later int he evening. Internet research indicates it was due to not working opposing muscle groups, i.e, bad/inexperienced massage therapist.\\nCan't recommend.  \n",
       "4                                                                                                                                                                                                                                                                                                                                                                                                                                                                                                                                                                                                                                                                                                                                                                                                                                                                                                                                                                                                                                                                                                                                                                                                                                                                                                                                                                             Zine shouldn't be even considered asian food. The Pho is $18 and taste like dark Thai soup. Disgusting. Service was extremely slow and they would not get our order right either. We had a few dim sum items which were just ok and casino prices. I would not come here again for some decent chinese food.  \n",
       "5                                                                                                                                                                                                                                                                                                                                                                                                                                                                                                                                                                                                                                                                                                                                                                                                                                                                                                                                                                                                                                                                                                                                                                                                                                                                                                                                                                                                                                                                                           Great lunch specials, although the service was slow.  I enjoyed a tomato soup and a salad and both were delicious, but the food took forever to come out (but then again so did out waters...)  \n",
       "6                                                                                                                                                                                                                                                                                                                                                                                                                                                                                                                                                                                                                                                                                                                                                                                                                                                                                                                                                                                                                                                                                                                                                                                                                 I had the scallops which were delicious. The creamy polenta was really good and the bacon popcorn was dangerously good! My bf had the tenderloin which he thought was great and I also had the Thai Margarita which had a spicy salted rim and was surprisingly delish. Service was very attentive and not at all pushy. For a mid-range dinner spot, it's as good as it gets! Entrees about $20-35. \\n\\nThe hostess was friendly and accommodating. I highly recommend!  \n",
       "7                                                                                                                                                                                                                                                       Komisch ich kann die positiven beitr\\u00e4ge hier gar nicht verstehen. Ich habe immer das selbe Problem laut fahrplan h\\u00e4tte ich noch \\u00fcber 10 minuten zeit f\\u00fcr ein umsteigen auf die bahn, nur der bus kommt nicht.. oder zu sp\\u00e4t oder braucht dann statt 10 fast 20 minuten, und nein das hatt meist nichts mit ampeln oder anderen verkehrsteilnehmern zu tun die behindern w\\u00fcrden sondern fast immer mit dem unverm\\u00f6gen des fahrers / der fahrerin den bus zu steuern, desweiteren wurde ich und auch andere fahrg\\u00e4ste schon ziemlich bl\\u00f6de angeblafft nur weil die fahrkarte beim einsteigen nicht vorgezeigt wurde oder ich nicht schnell genug war ... und wenn ich dann am n\\u00e4chsten tag dran denke schaut nat\\u00fcrlich dieser fahrer dann demonstrativ in die andere richtung ?? h\\u00e4\\u00e4 ??\\n\\nAlles im allen muss ich sagen das ich als t\\u00e4glicher bus und bahn fahrer fast jeden tag keine besonders guten bzw schlechte erfahrungen machen muss, und daf\\u00fcr ziehen die preise dann auch noch dauernd an so als ob die preise nicht eh schon viel zu hoch w\\u00e4ren.\\n\\nW\\u00e4re die parksituation an meinem gesch\\u00e4ft anders w\\u00fcrde ich sicherlich nicht und nie wieder t\\u00e4glich mit bus und bahn fahren wollen und schon gar nicht mit der kvv. keine ahnung ob andere verkehrsunternehmen genauso schlecht sind .. aber ich hoffe mal nicht.  \n",
       "8                                                                                                                                                                                                                                                                                                                                                                                                                                                                                                                                                        i feel very indifferent to this place.  the lobster roll did not look appetizing, so we ordered the lobster and chips, a lobsticle, and a lobster grilled cheese, on the recommendation of the people who worked there.  as lunch, this place was extremely heavy.  the lobster and chips were pretty good but it was so very deep fried that we feel a bit gross and greasy afterwards.  actually, it was so heavy that we felt a bit disgusting for the rest of the day. they really skimp on the lobster too...there were maybe five/six small lobster nuggets and the rest were their mediocre fries.  \\n\\nthe only thing that i would recommend getting is the lobsticle!  it's a lobster tail that is smothered in tempura batter and fried (yes, FRIED, again!!!).  it was really good, although pretty small and still cost $12!  the lobster grilled cheese was GROSS to me.  i don't know what kind of white cheese they used but it did not taste good, it was too mayo-ish.  i mean, i love mayo just as much as the next person but really it was like smothered in this mayo cheese.  i would not order that again.  \n",
       "9                                                                                                                                                                                                                                                                                                                                                                                                                                                                                                                                                                                                                                                                                                                                                                                                                                                                                                                                                                                                                                                                                                                                                                                                                                             My favorite thing about Marshall's is the shoe department and this one does not disappoint. Rows and rows of brand name shoes and a sizable clearance section make my shoe-aholic self tingle with anticipation. \\n\\nI don't frequent this location since it's clear on the other side of town from where I live, but when I'm in the area I always like to check it out for deals. Definitely clean and organized as well, which is a plus.  "
      ]
     },
     "execution_count": 5,
     "metadata": {},
     "output_type": "execute_result"
    }
   ],
   "source": [
    "show_random_elements(dataset[\"train\"], 10)"
   ]
  },
  {
   "cell_type": "code",
   "execution_count": 6,
   "id": "d9ad8d60",
   "metadata": {},
   "outputs": [
    {
     "data": {
      "text/html": [
       "<div>\n",
       "<style scoped>\n",
       "    .dataframe tbody tr th:only-of-type {\n",
       "        vertical-align: middle;\n",
       "    }\n",
       "\n",
       "    .dataframe tbody tr th {\n",
       "        vertical-align: top;\n",
       "    }\n",
       "\n",
       "    .dataframe thead th {\n",
       "        text-align: right;\n",
       "    }\n",
       "</style>\n",
       "<table border=\"1\" class=\"dataframe\">\n",
       "  <thead>\n",
       "    <tr style=\"text-align: right;\">\n",
       "      <th></th>\n",
       "      <th>label</th>\n",
       "      <th>text</th>\n",
       "    </tr>\n",
       "  </thead>\n",
       "  <tbody>\n",
       "    <tr>\n",
       "      <th>0</th>\n",
       "      <td>4 stars</td>\n",
       "      <td>Went here with 3 friends for a night of tapas and sangria....It did not disappoint!\\n\\nEverything we ordered was excellent and reasonably priced.  I tried red and white sangria and enjoyed both, but I have to say I liked the red better (probably just a personal preference.)  What makes this place special is that there is something for everyone from the carnivore to the vegetarian. \\n\\nI tried the anchovy dish cause a friend ordered it, and I was very pleasantly surprised.  Not fishy at all like I expected.  My favorite dish I tried was the Tuna Peppers.  I found that they used the a lot of the same ingredients in different dishes, so you could stick with one flavor profile, or you could totally mix it up.  There's a lot to choose from so I suggest that everyone at the table orders two dishes to start, then you take it from there.  \\n\\nWe saved room for dessert and ordered the sampler.  I'm glad we did, cause it had a little bit of everything.  Overall, its not a bad cab ride from the strip, and a great place to come with friends!</td>\n",
       "    </tr>\n",
       "    <tr>\n",
       "      <th>1</th>\n",
       "      <td>1 star</td>\n",
       "      <td>Stripsteak sucked. My steak was overcooked, the trio of pureed potatoes or whatever they call it was a joke, and the trio of \\\"duck fat\\\" fries must have been fried in 5% duck fat or something, because they tasted like something Burger King would serve (except for the white truffle ones, but how can you screw that up, really?).\\n\\nThe three pureed potatoes dishes were lobster, which, while I love big chunks of lobster, tasted like an experiment on how to get starchy potatoes and a bag of white flour into a pasty goo reminiscent of gruel which clung so steadfastly to the lobster chunks that it didn't offer the opportunity to salvage them from the muck, the sour cream and chive version, almost as gooey and I guess was worth one taste, and the third, horseradish, I guess was supposed to be some kind of traditional take on wasabi mashed potatoes you would have seen on every menu five years ago.\\n\\nService wasn't anything to brag about either. This is another one of those places where they really need to train their waitstaff a little better. For this kind of money and they large crowd it draws, they should be watching for your fork and knife to come together on the plate in the interest of turning the table over. We waited a long time for our check, and I think they only took notice when I got up to use the restroom.</td>\n",
       "    </tr>\n",
       "    <tr>\n",
       "      <th>2</th>\n",
       "      <td>4 stars</td>\n",
       "      <td>The burger was the best I've ever had, had the Poblano. Everything from the pretzel bun to the meat and toppings was top notch. Unfortunately I waited 35 minutes for my food during a slow period, the service was abysmal. But, I will be back for the burgers. If not for the service, would have been five stars.</td>\n",
       "    </tr>\n",
       "    <tr>\n",
       "      <th>3</th>\n",
       "      <td>1 star</td>\n",
       "      <td>I was so excited to go here after reading all the reviews, but afterwards wondered if I really had the right place or if it was an off day last Sunday. My experience was very different. We went for a late breakfast. It's best if I summarize my plate. The eggs that I ordered over hard had broken and it was hard to even see the yolks, mixed in as they were. The hamburger patty was the driest, least appetizing I've ever had and even the pancakes were heavy, flat without any taste or salt. I thought it would be hard to mess up these basics but you learn something new every day. The service was nothing exceptional.  I thought the place would have some charm, but there was nothing - just an ordinary diner. It's actually kind of sad when you enjoy the toast with jam more than anything else. Never again. It may be cheap but IMO it's misplaced economics to pay anything for something so disappointing.</td>\n",
       "    </tr>\n",
       "    <tr>\n",
       "      <th>4</th>\n",
       "      <td>3 stars</td>\n",
       "      <td>Decent venue.\\n\\nWouldn't be my top choice by far, but it's good as a first spot to stop by or a last stop.  I got flagged down by a promoter handing out wristbands out on the Strip earlier during the day.  He gave me some wristbands and ensured me that I would get reduced cover and a line cut. Females would get comped in...Ended up paying $20 cover (instead of $40) with some free drink tickets, so not a bad deal at all. We got in super fast, so no complaints.  Not a bad option at 2:30am!\\n\\nClub plays open format (mainly hip-hop) so if you or your group are anti-EDM, Haze would definitely be a viable option. Club has main floor and upper level tables. I didn't do bottle service here, so i can't comment on that. But Haze is managed by the Light Group, and I know they have great deals at 1OAK, so I'm thinking it's the same at Haze as well. Crowd here is similar to the one at Pure. \\n\\nI used up my drink tickets, but shots of Hennessy and Patron were $15 a piece. Just about average for Vegas prices. Club wasn't jammed packed, so it was easy to buy drinks.\\n\\nReally 3.5 stars, but I can't see myself going back unless it was a last club of the night option or I got comped in for free. Not bad, but theres so much more in Vegas!</td>\n",
       "    </tr>\n",
       "    <tr>\n",
       "      <th>5</th>\n",
       "      <td>4 stars</td>\n",
       "      <td>This restaurant has very authentic Taiwanese food and reminds me of my grandma's cooking. I am never disappointed by the quality of the hand-made noodles and sauces that come along with all of the variation. One thing I have noticed over the numerous times I've been there is that their soup dumplings have become smaller and smaller in size. The flavor of the soup dumplings is very similar to my favorite soup dumpling restaurant in Asia so I highly recommend this place!</td>\n",
       "    </tr>\n",
       "    <tr>\n",
       "      <th>6</th>\n",
       "      <td>4 stars</td>\n",
       "      <td>This Subway has come a long way. It used to have pretty poor, unfriendly service. The teenage gals working there seemed to rather chit-chat than work but I think a manager with a somewhat ironfist may have read them the riot act because service has improved (at least this trip!).\\n\\nWhere the sandwiches used to be put together half-@$$ed, this time they were made with a little more love. The gals were more interested in greeting us, taking our orders properly, and being fast and efficient with getting everything prepared and paid for. The restaurant itself is very clean and the food very fresh, so it's safe to say there's new management involved.\\n\\nI have to say that Subway has the best tuna sub on the planet. That is no lie. I'm not sure what it is they do, but that's about the only thing I can ever order here. I have a nephew who worked at one years ago, but he said there was no secret to it.  Adding bacon to it might have something to do with it. You can't go wrong with bacon! I've even seen chocolate-covered bacon but have yet to try it. I'm not big on the lettuce at these joints but I always go with the fresh spinach instead if there's not an ecoli scare happening. The sandwich makers can go a little extreme with the mayo so I have to tell them \\\"just a little bit\\\" and not make the mistake of just saying \\\"light mayo\\\", because they will indeed get the bottle of \\\"light mayonnaise\\\" and slop too much on my sandwich, not realizing I just meant \\\" a little bit\\\" of mayo. Comprende?\\n\\nThe breads are all good but I always stick with their wheat, never toasted. I swear I scrape the hell out of my lips on any sub that gets toasted.\\n\\nNice selection of chips. Nothing like putting them on your sandwich for that extra crunch. They also carry one of the best iced-teas for these type of restaurants called \\\"Fuze\\\". I wish more stores would carry it. Tastier than Lipton's!\\n\\nFair prices but it gets weird how they judge the prices of a footlong. They can go anywhere from $5 to $9 depending on what's inside. Is there a tuna shortage?\\n\\nYour pal,\\nWalter</td>\n",
       "    </tr>\n",
       "    <tr>\n",
       "      <th>7</th>\n",
       "      <td>5 stars</td>\n",
       "      <td>WOW wow WOWwwwww! At first I expected this place to be a grocery store and was a little disappointed at first, but man was I in for a pleasant surprise. This place actually has books! Tons of them! I'm from Bosnia and wasn't familiar with the whole library/rent a book concept and at first I was offended that they wouldn't  take cash for the books I had chosen! I fought a bit ....especially when the worker said to bring them back in 3 weeks! However we worked things out! It's an amazing concept! You get to read a book for free and then take it back and choose a new book! America is so great</td>\n",
       "    </tr>\n",
       "    <tr>\n",
       "      <th>8</th>\n",
       "      <td>5 stars</td>\n",
       "      <td>I've only been here a few times, but I have never been disappointed. Excellent customer service and ALWAYS amazing food. If you love yourself, order the acai berry smoothie and the Smoked Turkey &amp; Avocado sandwich. Best items on the menu, as far as I'm concerned :)</td>\n",
       "    </tr>\n",
       "    <tr>\n",
       "      <th>9</th>\n",
       "      <td>1 star</td>\n",
       "      <td>We recently moved into the area and I was looking for some good Chinese food. I thought I'd give this place a try and ordered take-out based on other ppls reviews. When I went to go pick up the food the place was very dingy and dirty looking to me. Had I known the place was going to be this dirty I would never had ordered. But despite this, I thought I'd still give it the benefit of the doubt. I was wrong! So wrong! We ordered orange beef, hot 'n sour soup, and some lo me in. Pretty basic Chinese-American dishes. It was awful. The food was mushy like it had been sitting awhile. It was the worst Chinese food I have ever tasted.</td>\n",
       "    </tr>\n",
       "  </tbody>\n",
       "</table>\n",
       "</div>"
      ],
      "text/plain": [
       "     label  \\\n",
       "0  4 stars   \n",
       "1   1 star   \n",
       "2  4 stars   \n",
       "3   1 star   \n",
       "4  3 stars   \n",
       "5  4 stars   \n",
       "6  4 stars   \n",
       "7  5 stars   \n",
       "8  5 stars   \n",
       "9   1 star   \n",
       "\n",
       "                                                                                                                                                                                                                                                                                                                                                                                                                                                                                                                                                                                                                                                                                                                                                                                                                                                                                                                                                                                                                                                                                                                                                                                                                                                                                                                                                                                                                                                                                                                                                                                                                                                                                                                                                                                                                                                                                                                                                                                                                                                                                                                                                                     text  \n",
       "0                                                                                                                                                                                                                                                                                                                                                                                                                                                                                                                                                                                                                                                                                                                                                                                                                                                                                                                                                                                                                                                                                   Went here with 3 friends for a night of tapas and sangria....It did not disappoint!\\n\\nEverything we ordered was excellent and reasonably priced.  I tried red and white sangria and enjoyed both, but I have to say I liked the red better (probably just a personal preference.)  What makes this place special is that there is something for everyone from the carnivore to the vegetarian. \\n\\nI tried the anchovy dish cause a friend ordered it, and I was very pleasantly surprised.  Not fishy at all like I expected.  My favorite dish I tried was the Tuna Peppers.  I found that they used the a lot of the same ingredients in different dishes, so you could stick with one flavor profile, or you could totally mix it up.  There's a lot to choose from so I suggest that everyone at the table orders two dishes to start, then you take it from there.  \\n\\nWe saved room for dessert and ordered the sampler.  I'm glad we did, cause it had a little bit of everything.  Overall, its not a bad cab ride from the strip, and a great place to come with friends!  \n",
       "1                                                                                                                                                                                                                                                                                                                                                                                                                                                                                                                                                                                                                                                                                                                                                                                  Stripsteak sucked. My steak was overcooked, the trio of pureed potatoes or whatever they call it was a joke, and the trio of \\\"duck fat\\\" fries must have been fried in 5% duck fat or something, because they tasted like something Burger King would serve (except for the white truffle ones, but how can you screw that up, really?).\\n\\nThe three pureed potatoes dishes were lobster, which, while I love big chunks of lobster, tasted like an experiment on how to get starchy potatoes and a bag of white flour into a pasty goo reminiscent of gruel which clung so steadfastly to the lobster chunks that it didn't offer the opportunity to salvage them from the muck, the sour cream and chive version, almost as gooey and I guess was worth one taste, and the third, horseradish, I guess was supposed to be some kind of traditional take on wasabi mashed potatoes you would have seen on every menu five years ago.\\n\\nService wasn't anything to brag about either. This is another one of those places where they really need to train their waitstaff a little better. For this kind of money and they large crowd it draws, they should be watching for your fork and knife to come together on the plate in the interest of turning the table over. We waited a long time for our check, and I think they only took notice when I got up to use the restroom.  \n",
       "2                                                                                                                                                                                                                                                                                                                                                                                                                                                                                                                                                                                                                                                                                                                                                                                                                                                                                                                                                                                                                                                                                                                                                                                                                                                                                                                                                                                                                                                                                                                                                                                                                                                                                                                                                                                                                                                   The burger was the best I've ever had, had the Poblano. Everything from the pretzel bun to the meat and toppings was top notch. Unfortunately I waited 35 minutes for my food during a slow period, the service was abysmal. But, I will be back for the burgers. If not for the service, would have been five stars.  \n",
       "3                                                                                                                                                                                                                                                                                                                                                                                                                                                                                                                                                                                                                                                                                                                                                                                                                                                                                                                                                                                                                                                                                                                                                                                                                                I was so excited to go here after reading all the reviews, but afterwards wondered if I really had the right place or if it was an off day last Sunday. My experience was very different. We went for a late breakfast. It's best if I summarize my plate. The eggs that I ordered over hard had broken and it was hard to even see the yolks, mixed in as they were. The hamburger patty was the driest, least appetizing I've ever had and even the pancakes were heavy, flat without any taste or salt. I thought it would be hard to mess up these basics but you learn something new every day. The service was nothing exceptional.  I thought the place would have some charm, but there was nothing - just an ordinary diner. It's actually kind of sad when you enjoy the toast with jam more than anything else. Never again. It may be cheap but IMO it's misplaced economics to pay anything for something so disappointing.  \n",
       "4                                                                                                                                                                                                                                                                                                                                                                                                                                                                                                                                                                                                                                                                                                                                                                                                                                                                              Decent venue.\\n\\nWouldn't be my top choice by far, but it's good as a first spot to stop by or a last stop.  I got flagged down by a promoter handing out wristbands out on the Strip earlier during the day.  He gave me some wristbands and ensured me that I would get reduced cover and a line cut. Females would get comped in...Ended up paying $20 cover (instead of $40) with some free drink tickets, so not a bad deal at all. We got in super fast, so no complaints.  Not a bad option at 2:30am!\\n\\nClub plays open format (mainly hip-hop) so if you or your group are anti-EDM, Haze would definitely be a viable option. Club has main floor and upper level tables. I didn't do bottle service here, so i can't comment on that. But Haze is managed by the Light Group, and I know they have great deals at 1OAK, so I'm thinking it's the same at Haze as well. Crowd here is similar to the one at Pure. \\n\\nI used up my drink tickets, but shots of Hennessy and Patron were $15 a piece. Just about average for Vegas prices. Club wasn't jammed packed, so it was easy to buy drinks.\\n\\nReally 3.5 stars, but I can't see myself going back unless it was a last club of the night option or I got comped in for free. Not bad, but theres so much more in Vegas!  \n",
       "5                                                                                                                                                                                                                                                                                                                                                                                                                                                                                                                                                                                                                                                                                                                                                                                                                                                                                                                                                                                                                                                                                                                                                                                                                                                                                                                                                                                                                                                                                                                                                                                                                                                                               This restaurant has very authentic Taiwanese food and reminds me of my grandma's cooking. I am never disappointed by the quality of the hand-made noodles and sauces that come along with all of the variation. One thing I have noticed over the numerous times I've been there is that their soup dumplings have become smaller and smaller in size. The flavor of the soup dumplings is very similar to my favorite soup dumpling restaurant in Asia so I highly recommend this place!  \n",
       "6  This Subway has come a long way. It used to have pretty poor, unfriendly service. The teenage gals working there seemed to rather chit-chat than work but I think a manager with a somewhat ironfist may have read them the riot act because service has improved (at least this trip!).\\n\\nWhere the sandwiches used to be put together half-@$$ed, this time they were made with a little more love. The gals were more interested in greeting us, taking our orders properly, and being fast and efficient with getting everything prepared and paid for. The restaurant itself is very clean and the food very fresh, so it's safe to say there's new management involved.\\n\\nI have to say that Subway has the best tuna sub on the planet. That is no lie. I'm not sure what it is they do, but that's about the only thing I can ever order here. I have a nephew who worked at one years ago, but he said there was no secret to it.  Adding bacon to it might have something to do with it. You can't go wrong with bacon! I've even seen chocolate-covered bacon but have yet to try it. I'm not big on the lettuce at these joints but I always go with the fresh spinach instead if there's not an ecoli scare happening. The sandwich makers can go a little extreme with the mayo so I have to tell them \\\"just a little bit\\\" and not make the mistake of just saying \\\"light mayo\\\", because they will indeed get the bottle of \\\"light mayonnaise\\\" and slop too much on my sandwich, not realizing I just meant \\\" a little bit\\\" of mayo. Comprende?\\n\\nThe breads are all good but I always stick with their wheat, never toasted. I swear I scrape the hell out of my lips on any sub that gets toasted.\\n\\nNice selection of chips. Nothing like putting them on your sandwich for that extra crunch. They also carry one of the best iced-teas for these type of restaurants called \\\"Fuze\\\". I wish more stores would carry it. Tastier than Lipton's!\\n\\nFair prices but it gets weird how they judge the prices of a footlong. They can go anywhere from $5 to $9 depending on what's inside. Is there a tuna shortage?\\n\\nYour pal,\\nWalter  \n",
       "7                                                                                                                                                                                                                                                                                                                                                                                                                                                                                                                                                                                                                                                                                                                                                                                                                                                                                                                                                                                                                                                                                                                                                                                                                                                                                                                                                                                                                                                                                                                                                    WOW wow WOWwwwww! At first I expected this place to be a grocery store and was a little disappointed at first, but man was I in for a pleasant surprise. This place actually has books! Tons of them! I'm from Bosnia and wasn't familiar with the whole library/rent a book concept and at first I was offended that they wouldn't  take cash for the books I had chosen! I fought a bit ....especially when the worker said to bring them back in 3 weeks! However we worked things out! It's an amazing concept! You get to read a book for free and then take it back and choose a new book! America is so great  \n",
       "8                                                                                                                                                                                                                                                                                                                                                                                                                                                                                                                                                                                                                                                                                                                                                                                                                                                                                                                                                                                                                                                                                                                                                                                                                                                                                                                                                                                                                                                                                                                                                                                                                                                                                                                                                                                                                                                                                               I've only been here a few times, but I have never been disappointed. Excellent customer service and ALWAYS amazing food. If you love yourself, order the acai berry smoothie and the Smoked Turkey & Avocado sandwich. Best items on the menu, as far as I'm concerned :)  \n",
       "9                                                                                                                                                                                                                                                                                                                                                                                                                                                                                                                                                                                                                                                                                                                                                                                                                                                                                                                                                                                                                                                                                                                                                                                                                                                                                                                                                                                                                                                                                                              We recently moved into the area and I was looking for some good Chinese food. I thought I'd give this place a try and ordered take-out based on other ppls reviews. When I went to go pick up the food the place was very dingy and dirty looking to me. Had I known the place was going to be this dirty I would never had ordered. But despite this, I thought I'd still give it the benefit of the doubt. I was wrong! So wrong! We ordered orange beef, hot 'n sour soup, and some lo me in. Pretty basic Chinese-American dishes. It was awful. The food was mushy like it had been sitting awhile. It was the worst Chinese food I have ever tasted.  "
      ]
     },
     "execution_count": 6,
     "metadata": {},
     "output_type": "execute_result"
    }
   ],
   "source": [
    "show_random_elements(dataset[\"test\"], 10)"
   ]
  },
  {
   "cell_type": "code",
   "execution_count": 7,
   "id": "d9f608c4",
   "metadata": {},
   "outputs": [],
   "source": [
    "### Converting to binary classification problem\n",
    "### 1/2 Star - Negative\n",
    "### 3/4/5 Star - Positive\n",
    "def preprocess_function_1(examples):\n",
    "    for i in range(len(examples['label'])):\n",
    "        if examples['label'][i] >= 3:\n",
    "            examples['label'][i] = 1\n",
    "        else:\n",
    "            examples['label'][i] = 0\n",
    "\n",
    "    return examples\n",
    "\n",
    "### Removing '\\\\n' and replacing \\\\\" with \" from the dataset \n",
    "def preprocess_function_2(examples):\n",
    "    for i in range(len(examples['text'])):\n",
    "        examples['text'][i] = examples['text'][i].replace('\\\\n', \" \")\n",
    "        examples['text'][i] = examples['text'][i].replace('\\\\\"', '\"')\n",
    "\n",
    "    return examples\n",
    "\n",
    "### Tokenizing words into integer for embedding layer in BERT\n",
    "seq_len = 128\n",
    "def preprocess_function_3(examples):\n",
    "    return tokenizer(examples['text'],max_length=seq_len, padding = \"max_length\",truncation=True)\n",
    "\n"
   ]
  },
  {
   "cell_type": "code",
   "execution_count": 8,
   "id": "80adef23",
   "metadata": {
    "scrolled": true
   },
   "outputs": [
    {
     "data": {
      "application/vnd.jupyter.widget-view+json": {
       "model_id": "c301122ab44d46d093043e3ef7f4cc47",
       "version_major": 2,
       "version_minor": 0
      },
      "text/plain": [
       "  0%|          | 0/650 [00:00<?, ?ba/s]"
      ]
     },
     "metadata": {},
     "output_type": "display_data"
    },
    {
     "data": {
      "application/vnd.jupyter.widget-view+json": {
       "model_id": "e700ab59901c4ea7a900894101081441",
       "version_major": 2,
       "version_minor": 0
      },
      "text/plain": [
       "  0%|          | 0/50 [00:00<?, ?ba/s]"
      ]
     },
     "metadata": {},
     "output_type": "display_data"
    },
    {
     "name": "stdout",
     "output_type": "stream",
     "text": [
      "ClassLabel(names=['1 star', '2 star', '3 stars', '4 stars', '5 stars'], id=None)\n",
      "ClassLabel(names=['1 star', '2 star', '3 stars', '4 stars', '5 stars'], id=None)\n",
      "ClassLabel(names=['negative', 'positive'], id=None)\n",
      "ClassLabel(names=['negative', 'positive'], id=None)\n"
     ]
    },
    {
     "data": {
      "application/vnd.jupyter.widget-view+json": {
       "model_id": "b5a8b68e515844babe0682203dbb32b0",
       "version_major": 2,
       "version_minor": 0
      },
      "text/plain": [
       "  0%|          | 0/650 [00:00<?, ?ba/s]"
      ]
     },
     "metadata": {},
     "output_type": "display_data"
    },
    {
     "data": {
      "application/vnd.jupyter.widget-view+json": {
       "model_id": "dbbad4496fcf47bc830131ded1f594f0",
       "version_major": 2,
       "version_minor": 0
      },
      "text/plain": [
       "  0%|          | 0/50 [00:00<?, ?ba/s]"
      ]
     },
     "metadata": {},
     "output_type": "display_data"
    },
    {
     "data": {
      "application/vnd.jupyter.widget-view+json": {
       "model_id": "67f17ca6da4a488296f355a1566c578e",
       "version_major": 2,
       "version_minor": 0
      },
      "text/plain": [
       "  0%|          | 0/650 [00:00<?, ?ba/s]"
      ]
     },
     "metadata": {},
     "output_type": "display_data"
    },
    {
     "data": {
      "application/vnd.jupyter.widget-view+json": {
       "model_id": "0e577589a3fc4106b198df4f6139a7a1",
       "version_major": 2,
       "version_minor": 0
      },
      "text/plain": [
       "  0%|          | 0/50 [00:00<?, ?ba/s]"
      ]
     },
     "metadata": {},
     "output_type": "display_data"
    }
   ],
   "source": [
    "### Tokenizer to preprocess the input before feeding into the model\n",
    "seq_len = 128\n",
    "model_checkpoint = 'bert-base-uncased'\n",
    "tokenizer = AutoTokenizer.from_pretrained(model_checkpoint, use_fast=True, model_max_length = seq_len)\n",
    "\n",
    "# Convert to just 2 class - negative and positive\n",
    "dataset = dataset.map(preprocess_function_1, batched=True)\n",
    "\n",
    "print(dataset[\"train\"].features['label'])\n",
    "print(dataset[\"test\"].features['label'])\n",
    "\n",
    "dataset[\"train\"].features['label'] = datasets.ClassLabel(names=[\"negative\", \"positive\"])\n",
    "dataset[\"test\"].features['label'] = datasets.ClassLabel(names=[\"negative\", \"positive\"])\n",
    "\n",
    "print(dataset[\"train\"].features['label'])\n",
    "print(dataset[\"test\"].features['label'])\n",
    "\n",
    "dataset = dataset.map(preprocess_function_2, batched=True)\n",
    "\n",
    "encoded_dataset = dataset.map(preprocess_function_3, batched=True)"
   ]
  },
  {
   "cell_type": "code",
   "execution_count": 9,
   "id": "56ffc299",
   "metadata": {
    "scrolled": false
   },
   "outputs": [
    {
     "name": "stdout",
     "output_type": "stream",
     "text": [
      "----Training BERT Base for Yelp Review Task----\n"
     ]
    },
    {
     "name": "stderr",
     "output_type": "stream",
     "text": [
      "Some weights of the model checkpoint at bert-base-uncased were not used when initializing BertForSequenceClassification: ['cls.predictions.bias', 'cls.predictions.transform.LayerNorm.bias', 'cls.predictions.transform.LayerNorm.weight', 'cls.seq_relationship.bias', 'cls.predictions.decoder.weight', 'cls.predictions.transform.dense.weight', 'cls.seq_relationship.weight', 'cls.predictions.transform.dense.bias']\n",
      "- This IS expected if you are initializing BertForSequenceClassification from the checkpoint of a model trained on another task or with another architecture (e.g. initializing a BertForSequenceClassification model from a BertForPreTraining model).\n",
      "- This IS NOT expected if you are initializing BertForSequenceClassification from the checkpoint of a model that you expect to be exactly identical (initializing a BertForSequenceClassification model from a BertForSequenceClassification model).\n",
      "Some weights of BertForSequenceClassification were not initialized from the model checkpoint at bert-base-uncased and are newly initialized: ['classifier.bias', 'classifier.weight']\n",
      "You should probably TRAIN this model on a down-stream task to be able to use it for predictions and inference.\n"
     ]
    },
    {
     "name": "stdout",
     "output_type": "stream",
     "text": [
      "Pretrained Model for Yelp Review Task: bert-base-uncased\n"
     ]
    },
    {
     "name": "stderr",
     "output_type": "stream",
     "text": [
      "The following columns in the training set don't have a corresponding argument in `BertForSequenceClassification.forward` and have been ignored: text. If text are not expected by `BertForSequenceClassification.forward`,  you can safely ignore this message.\n",
      "***** Running training *****\n",
      "  Num examples = 650000\n",
      "  Num Epochs = 10\n",
      "  Instantaneous batch size per device = 32\n",
      "  Total train batch size (w. parallel, distributed & accumulation) = 32\n",
      "  Gradient Accumulation steps = 1\n",
      "  Total optimization steps = 203130\n",
      "You're using a BertTokenizerFast tokenizer. Please note that with a fast tokenizer, using the `__call__` method is faster than using a method to encode the text followed by a call to the `pad` method to get a padded encoding.\n"
     ]
    },
    {
     "data": {
      "text/html": [
       "\n",
       "    <div>\n",
       "      \n",
       "      <progress value='19' max='203130' style='width:300px; height:20px; vertical-align: middle;'></progress>\n",
       "      [    19/203130 00:02 < 9:42:06, 5.82 it/s, Epoch 0.00/10]\n",
       "    </div>\n",
       "    <table border=\"1\" class=\"dataframe\">\n",
       "  <thead>\n",
       " <tr style=\"text-align: left;\">\n",
       "      <th>Epoch</th>\n",
       "      <th>Training Loss</th>\n",
       "      <th>Validation Loss</th>\n",
       "    </tr>\n",
       "  </thead>\n",
       "  <tbody>\n",
       "  </tbody>\n",
       "</table><p>"
      ],
      "text/plain": [
       "<IPython.core.display.HTML object>"
      ]
     },
     "metadata": {},
     "output_type": "display_data"
    },
    {
     "ename": "KeyboardInterrupt",
     "evalue": "",
     "output_type": "error",
     "traceback": [
      "\u001b[0;31m---------------------------------------------------------------------------\u001b[0m",
      "\u001b[0;31mKeyboardInterrupt\u001b[0m                         Traceback (most recent call last)",
      "Cell \u001b[0;32mIn [9], line 64\u001b[0m\n\u001b[1;32m     53\u001b[0m trainer \u001b[38;5;241m=\u001b[39m CustomTrainer(\n\u001b[1;32m     54\u001b[0m     model,\n\u001b[1;32m     55\u001b[0m     training_args,\n\u001b[0;32m   (...)\u001b[0m\n\u001b[1;32m     59\u001b[0m     compute_metrics\u001b[38;5;241m=\u001b[39mcompute_metrics,\n\u001b[1;32m     60\u001b[0m )\n\u001b[1;32m     63\u001b[0m \u001b[38;5;66;03m# Call trainer.train to start training\u001b[39;00m\n\u001b[0;32m---> 64\u001b[0m \u001b[43mtrainer\u001b[49m\u001b[38;5;241;43m.\u001b[39;49m\u001b[43mtrain\u001b[49m\u001b[43m(\u001b[49m\u001b[43m)\u001b[49m\n",
      "File \u001b[0;32m~/.local/lib/python3.8/site-packages/transformers/trainer.py:1500\u001b[0m, in \u001b[0;36mTrainer.train\u001b[0;34m(self, resume_from_checkpoint, trial, ignore_keys_for_eval, **kwargs)\u001b[0m\n\u001b[1;32m   1495\u001b[0m     \u001b[38;5;28mself\u001b[39m\u001b[38;5;241m.\u001b[39mmodel_wrapped \u001b[38;5;241m=\u001b[39m \u001b[38;5;28mself\u001b[39m\u001b[38;5;241m.\u001b[39mmodel\n\u001b[1;32m   1497\u001b[0m inner_training_loop \u001b[38;5;241m=\u001b[39m find_executable_batch_size(\n\u001b[1;32m   1498\u001b[0m     \u001b[38;5;28mself\u001b[39m\u001b[38;5;241m.\u001b[39m_inner_training_loop, \u001b[38;5;28mself\u001b[39m\u001b[38;5;241m.\u001b[39m_train_batch_size, args\u001b[38;5;241m.\u001b[39mauto_find_batch_size\n\u001b[1;32m   1499\u001b[0m )\n\u001b[0;32m-> 1500\u001b[0m \u001b[38;5;28;01mreturn\u001b[39;00m \u001b[43minner_training_loop\u001b[49m\u001b[43m(\u001b[49m\n\u001b[1;32m   1501\u001b[0m \u001b[43m    \u001b[49m\u001b[43margs\u001b[49m\u001b[38;5;241;43m=\u001b[39;49m\u001b[43margs\u001b[49m\u001b[43m,\u001b[49m\n\u001b[1;32m   1502\u001b[0m \u001b[43m    \u001b[49m\u001b[43mresume_from_checkpoint\u001b[49m\u001b[38;5;241;43m=\u001b[39;49m\u001b[43mresume_from_checkpoint\u001b[49m\u001b[43m,\u001b[49m\n\u001b[1;32m   1503\u001b[0m \u001b[43m    \u001b[49m\u001b[43mtrial\u001b[49m\u001b[38;5;241;43m=\u001b[39;49m\u001b[43mtrial\u001b[49m\u001b[43m,\u001b[49m\n\u001b[1;32m   1504\u001b[0m \u001b[43m    \u001b[49m\u001b[43mignore_keys_for_eval\u001b[49m\u001b[38;5;241;43m=\u001b[39;49m\u001b[43mignore_keys_for_eval\u001b[49m\u001b[43m,\u001b[49m\n\u001b[1;32m   1505\u001b[0m \u001b[43m\u001b[49m\u001b[43m)\u001b[49m\n",
      "File \u001b[0;32m~/.local/lib/python3.8/site-packages/transformers/trainer.py:1809\u001b[0m, in \u001b[0;36mTrainer._inner_training_loop\u001b[0;34m(self, batch_size, args, resume_from_checkpoint, trial, ignore_keys_for_eval)\u001b[0m\n\u001b[1;32m   1807\u001b[0m     optimizer_was_run \u001b[38;5;241m=\u001b[39m scale_before \u001b[38;5;241m<\u001b[39m\u001b[38;5;241m=\u001b[39m scale_after\n\u001b[1;32m   1808\u001b[0m \u001b[38;5;28;01melse\u001b[39;00m:\n\u001b[0;32m-> 1809\u001b[0m     \u001b[38;5;28;43mself\u001b[39;49m\u001b[38;5;241;43m.\u001b[39;49m\u001b[43moptimizer\u001b[49m\u001b[38;5;241;43m.\u001b[39;49m\u001b[43mstep\u001b[49m\u001b[43m(\u001b[49m\u001b[43m)\u001b[49m\n\u001b[1;32m   1811\u001b[0m \u001b[38;5;28;01mif\u001b[39;00m optimizer_was_run \u001b[38;5;129;01mand\u001b[39;00m \u001b[38;5;129;01mnot\u001b[39;00m \u001b[38;5;28mself\u001b[39m\u001b[38;5;241m.\u001b[39mdeepspeed:\n\u001b[1;32m   1812\u001b[0m     \u001b[38;5;28mself\u001b[39m\u001b[38;5;241m.\u001b[39mlr_scheduler\u001b[38;5;241m.\u001b[39mstep()\n",
      "File \u001b[0;32m~/.local/lib/python3.8/site-packages/torch/optim/lr_scheduler.py:65\u001b[0m, in \u001b[0;36m_LRScheduler.__init__.<locals>.with_counter.<locals>.wrapper\u001b[0;34m(*args, **kwargs)\u001b[0m\n\u001b[1;32m     63\u001b[0m instance\u001b[38;5;241m.\u001b[39m_step_count \u001b[38;5;241m+\u001b[39m\u001b[38;5;241m=\u001b[39m \u001b[38;5;241m1\u001b[39m\n\u001b[1;32m     64\u001b[0m wrapped \u001b[38;5;241m=\u001b[39m func\u001b[38;5;241m.\u001b[39m\u001b[38;5;21m__get__\u001b[39m(instance, \u001b[38;5;28mcls\u001b[39m)\n\u001b[0;32m---> 65\u001b[0m \u001b[38;5;28;01mreturn\u001b[39;00m \u001b[43mwrapped\u001b[49m\u001b[43m(\u001b[49m\u001b[38;5;241;43m*\u001b[39;49m\u001b[43margs\u001b[49m\u001b[43m,\u001b[49m\u001b[43m \u001b[49m\u001b[38;5;241;43m*\u001b[39;49m\u001b[38;5;241;43m*\u001b[39;49m\u001b[43mkwargs\u001b[49m\u001b[43m)\u001b[49m\n",
      "File \u001b[0;32m~/.local/lib/python3.8/site-packages/torch/optim/optimizer.py:113\u001b[0m, in \u001b[0;36mOptimizer._hook_for_profile.<locals>.profile_hook_step.<locals>.wrapper\u001b[0;34m(*args, **kwargs)\u001b[0m\n\u001b[1;32m    111\u001b[0m profile_name \u001b[38;5;241m=\u001b[39m \u001b[38;5;124m\"\u001b[39m\u001b[38;5;124mOptimizer.step#\u001b[39m\u001b[38;5;132;01m{}\u001b[39;00m\u001b[38;5;124m.step\u001b[39m\u001b[38;5;124m\"\u001b[39m\u001b[38;5;241m.\u001b[39mformat(obj\u001b[38;5;241m.\u001b[39m\u001b[38;5;18m__class__\u001b[39m\u001b[38;5;241m.\u001b[39m\u001b[38;5;18m__name__\u001b[39m)\n\u001b[1;32m    112\u001b[0m \u001b[38;5;28;01mwith\u001b[39;00m torch\u001b[38;5;241m.\u001b[39mautograd\u001b[38;5;241m.\u001b[39mprofiler\u001b[38;5;241m.\u001b[39mrecord_function(profile_name):\n\u001b[0;32m--> 113\u001b[0m     \u001b[38;5;28;01mreturn\u001b[39;00m \u001b[43mfunc\u001b[49m\u001b[43m(\u001b[49m\u001b[38;5;241;43m*\u001b[39;49m\u001b[43margs\u001b[49m\u001b[43m,\u001b[49m\u001b[43m \u001b[49m\u001b[38;5;241;43m*\u001b[39;49m\u001b[38;5;241;43m*\u001b[39;49m\u001b[43mkwargs\u001b[49m\u001b[43m)\u001b[49m\n",
      "File \u001b[0;32m~/.local/lib/python3.8/site-packages/torch/autograd/grad_mode.py:27\u001b[0m, in \u001b[0;36m_DecoratorContextManager.__call__.<locals>.decorate_context\u001b[0;34m(*args, **kwargs)\u001b[0m\n\u001b[1;32m     24\u001b[0m \u001b[38;5;129m@functools\u001b[39m\u001b[38;5;241m.\u001b[39mwraps(func)\n\u001b[1;32m     25\u001b[0m \u001b[38;5;28;01mdef\u001b[39;00m \u001b[38;5;21mdecorate_context\u001b[39m(\u001b[38;5;241m*\u001b[39margs, \u001b[38;5;241m*\u001b[39m\u001b[38;5;241m*\u001b[39mkwargs):\n\u001b[1;32m     26\u001b[0m     \u001b[38;5;28;01mwith\u001b[39;00m \u001b[38;5;28mself\u001b[39m\u001b[38;5;241m.\u001b[39mclone():\n\u001b[0;32m---> 27\u001b[0m         \u001b[38;5;28;01mreturn\u001b[39;00m \u001b[43mfunc\u001b[49m\u001b[43m(\u001b[49m\u001b[38;5;241;43m*\u001b[39;49m\u001b[43margs\u001b[49m\u001b[43m,\u001b[49m\u001b[43m \u001b[49m\u001b[38;5;241;43m*\u001b[39;49m\u001b[38;5;241;43m*\u001b[39;49m\u001b[43mkwargs\u001b[49m\u001b[43m)\u001b[49m\n",
      "File \u001b[0;32m~/.local/lib/python3.8/site-packages/torch/optim/adamw.py:161\u001b[0m, in \u001b[0;36mAdamW.step\u001b[0;34m(self, closure)\u001b[0m\n\u001b[1;32m    157\u001b[0m             max_exp_avg_sqs\u001b[38;5;241m.\u001b[39mappend(state[\u001b[38;5;124m'\u001b[39m\u001b[38;5;124mmax_exp_avg_sq\u001b[39m\u001b[38;5;124m'\u001b[39m])\n\u001b[1;32m    159\u001b[0m         state_steps\u001b[38;5;241m.\u001b[39mappend(state[\u001b[38;5;124m'\u001b[39m\u001b[38;5;124mstep\u001b[39m\u001b[38;5;124m'\u001b[39m])\n\u001b[0;32m--> 161\u001b[0m     \u001b[43madamw\u001b[49m\u001b[43m(\u001b[49m\u001b[43mparams_with_grad\u001b[49m\u001b[43m,\u001b[49m\n\u001b[1;32m    162\u001b[0m \u001b[43m          \u001b[49m\u001b[43mgrads\u001b[49m\u001b[43m,\u001b[49m\n\u001b[1;32m    163\u001b[0m \u001b[43m          \u001b[49m\u001b[43mexp_avgs\u001b[49m\u001b[43m,\u001b[49m\n\u001b[1;32m    164\u001b[0m \u001b[43m          \u001b[49m\u001b[43mexp_avg_sqs\u001b[49m\u001b[43m,\u001b[49m\n\u001b[1;32m    165\u001b[0m \u001b[43m          \u001b[49m\u001b[43mmax_exp_avg_sqs\u001b[49m\u001b[43m,\u001b[49m\n\u001b[1;32m    166\u001b[0m \u001b[43m          \u001b[49m\u001b[43mstate_steps\u001b[49m\u001b[43m,\u001b[49m\n\u001b[1;32m    167\u001b[0m \u001b[43m          \u001b[49m\u001b[43mamsgrad\u001b[49m\u001b[38;5;241;43m=\u001b[39;49m\u001b[43mamsgrad\u001b[49m\u001b[43m,\u001b[49m\n\u001b[1;32m    168\u001b[0m \u001b[43m          \u001b[49m\u001b[43mbeta1\u001b[49m\u001b[38;5;241;43m=\u001b[39;49m\u001b[43mbeta1\u001b[49m\u001b[43m,\u001b[49m\n\u001b[1;32m    169\u001b[0m \u001b[43m          \u001b[49m\u001b[43mbeta2\u001b[49m\u001b[38;5;241;43m=\u001b[39;49m\u001b[43mbeta2\u001b[49m\u001b[43m,\u001b[49m\n\u001b[1;32m    170\u001b[0m \u001b[43m          \u001b[49m\u001b[43mlr\u001b[49m\u001b[38;5;241;43m=\u001b[39;49m\u001b[43mgroup\u001b[49m\u001b[43m[\u001b[49m\u001b[38;5;124;43m'\u001b[39;49m\u001b[38;5;124;43mlr\u001b[39;49m\u001b[38;5;124;43m'\u001b[39;49m\u001b[43m]\u001b[49m\u001b[43m,\u001b[49m\n\u001b[1;32m    171\u001b[0m \u001b[43m          \u001b[49m\u001b[43mweight_decay\u001b[49m\u001b[38;5;241;43m=\u001b[39;49m\u001b[43mgroup\u001b[49m\u001b[43m[\u001b[49m\u001b[38;5;124;43m'\u001b[39;49m\u001b[38;5;124;43mweight_decay\u001b[39;49m\u001b[38;5;124;43m'\u001b[39;49m\u001b[43m]\u001b[49m\u001b[43m,\u001b[49m\n\u001b[1;32m    172\u001b[0m \u001b[43m          \u001b[49m\u001b[43meps\u001b[49m\u001b[38;5;241;43m=\u001b[39;49m\u001b[43mgroup\u001b[49m\u001b[43m[\u001b[49m\u001b[38;5;124;43m'\u001b[39;49m\u001b[38;5;124;43meps\u001b[39;49m\u001b[38;5;124;43m'\u001b[39;49m\u001b[43m]\u001b[49m\u001b[43m,\u001b[49m\n\u001b[1;32m    173\u001b[0m \u001b[43m          \u001b[49m\u001b[43mmaximize\u001b[49m\u001b[38;5;241;43m=\u001b[39;49m\u001b[43mgroup\u001b[49m\u001b[43m[\u001b[49m\u001b[38;5;124;43m'\u001b[39;49m\u001b[38;5;124;43mmaximize\u001b[39;49m\u001b[38;5;124;43m'\u001b[39;49m\u001b[43m]\u001b[49m\u001b[43m,\u001b[49m\n\u001b[1;32m    174\u001b[0m \u001b[43m          \u001b[49m\u001b[43mforeach\u001b[49m\u001b[38;5;241;43m=\u001b[39;49m\u001b[43mgroup\u001b[49m\u001b[43m[\u001b[49m\u001b[38;5;124;43m'\u001b[39;49m\u001b[38;5;124;43mforeach\u001b[39;49m\u001b[38;5;124;43m'\u001b[39;49m\u001b[43m]\u001b[49m\u001b[43m,\u001b[49m\n\u001b[1;32m    175\u001b[0m \u001b[43m          \u001b[49m\u001b[43mcapturable\u001b[49m\u001b[38;5;241;43m=\u001b[39;49m\u001b[43mgroup\u001b[49m\u001b[43m[\u001b[49m\u001b[38;5;124;43m'\u001b[39;49m\u001b[38;5;124;43mcapturable\u001b[39;49m\u001b[38;5;124;43m'\u001b[39;49m\u001b[43m]\u001b[49m\u001b[43m)\u001b[49m\n\u001b[1;32m    177\u001b[0m \u001b[38;5;28;01mreturn\u001b[39;00m loss\n",
      "File \u001b[0;32m~/.local/lib/python3.8/site-packages/torch/optim/adamw.py:218\u001b[0m, in \u001b[0;36madamw\u001b[0;34m(params, grads, exp_avgs, exp_avg_sqs, max_exp_avg_sqs, state_steps, foreach, capturable, amsgrad, beta1, beta2, lr, weight_decay, eps, maximize)\u001b[0m\n\u001b[1;32m    215\u001b[0m \u001b[38;5;28;01melse\u001b[39;00m:\n\u001b[1;32m    216\u001b[0m     func \u001b[38;5;241m=\u001b[39m _single_tensor_adamw\n\u001b[0;32m--> 218\u001b[0m \u001b[43mfunc\u001b[49m\u001b[43m(\u001b[49m\u001b[43mparams\u001b[49m\u001b[43m,\u001b[49m\n\u001b[1;32m    219\u001b[0m \u001b[43m     \u001b[49m\u001b[43mgrads\u001b[49m\u001b[43m,\u001b[49m\n\u001b[1;32m    220\u001b[0m \u001b[43m     \u001b[49m\u001b[43mexp_avgs\u001b[49m\u001b[43m,\u001b[49m\n\u001b[1;32m    221\u001b[0m \u001b[43m     \u001b[49m\u001b[43mexp_avg_sqs\u001b[49m\u001b[43m,\u001b[49m\n\u001b[1;32m    222\u001b[0m \u001b[43m     \u001b[49m\u001b[43mmax_exp_avg_sqs\u001b[49m\u001b[43m,\u001b[49m\n\u001b[1;32m    223\u001b[0m \u001b[43m     \u001b[49m\u001b[43mstate_steps\u001b[49m\u001b[43m,\u001b[49m\n\u001b[1;32m    224\u001b[0m \u001b[43m     \u001b[49m\u001b[43mamsgrad\u001b[49m\u001b[38;5;241;43m=\u001b[39;49m\u001b[43mamsgrad\u001b[49m\u001b[43m,\u001b[49m\n\u001b[1;32m    225\u001b[0m \u001b[43m     \u001b[49m\u001b[43mbeta1\u001b[49m\u001b[38;5;241;43m=\u001b[39;49m\u001b[43mbeta1\u001b[49m\u001b[43m,\u001b[49m\n\u001b[1;32m    226\u001b[0m \u001b[43m     \u001b[49m\u001b[43mbeta2\u001b[49m\u001b[38;5;241;43m=\u001b[39;49m\u001b[43mbeta2\u001b[49m\u001b[43m,\u001b[49m\n\u001b[1;32m    227\u001b[0m \u001b[43m     \u001b[49m\u001b[43mlr\u001b[49m\u001b[38;5;241;43m=\u001b[39;49m\u001b[43mlr\u001b[49m\u001b[43m,\u001b[49m\n\u001b[1;32m    228\u001b[0m \u001b[43m     \u001b[49m\u001b[43mweight_decay\u001b[49m\u001b[38;5;241;43m=\u001b[39;49m\u001b[43mweight_decay\u001b[49m\u001b[43m,\u001b[49m\n\u001b[1;32m    229\u001b[0m \u001b[43m     \u001b[49m\u001b[43meps\u001b[49m\u001b[38;5;241;43m=\u001b[39;49m\u001b[43meps\u001b[49m\u001b[43m,\u001b[49m\n\u001b[1;32m    230\u001b[0m \u001b[43m     \u001b[49m\u001b[43mmaximize\u001b[49m\u001b[38;5;241;43m=\u001b[39;49m\u001b[43mmaximize\u001b[49m\u001b[43m,\u001b[49m\n\u001b[1;32m    231\u001b[0m \u001b[43m     \u001b[49m\u001b[43mcapturable\u001b[49m\u001b[38;5;241;43m=\u001b[39;49m\u001b[43mcapturable\u001b[49m\u001b[43m)\u001b[49m\n",
      "File \u001b[0;32m~/.local/lib/python3.8/site-packages/torch/optim/adamw.py:266\u001b[0m, in \u001b[0;36m_single_tensor_adamw\u001b[0;34m(params, grads, exp_avgs, exp_avg_sqs, max_exp_avg_sqs, state_steps, amsgrad, beta1, beta2, lr, weight_decay, eps, maximize, capturable)\u001b[0m\n\u001b[1;32m    263\u001b[0m param\u001b[38;5;241m.\u001b[39mmul_(\u001b[38;5;241m1\u001b[39m \u001b[38;5;241m-\u001b[39m lr \u001b[38;5;241m*\u001b[39m weight_decay)\n\u001b[1;32m    265\u001b[0m \u001b[38;5;66;03m# Decay the first and second moment running average coefficient\u001b[39;00m\n\u001b[0;32m--> 266\u001b[0m \u001b[43mexp_avg\u001b[49m\u001b[38;5;241;43m.\u001b[39;49m\u001b[43mmul_\u001b[49m\u001b[43m(\u001b[49m\u001b[43mbeta1\u001b[49m\u001b[43m)\u001b[49m\u001b[38;5;241m.\u001b[39madd_(grad, alpha\u001b[38;5;241m=\u001b[39m\u001b[38;5;241m1\u001b[39m \u001b[38;5;241m-\u001b[39m beta1)\n\u001b[1;32m    267\u001b[0m exp_avg_sq\u001b[38;5;241m.\u001b[39mmul_(beta2)\u001b[38;5;241m.\u001b[39maddcmul_(grad, grad, value\u001b[38;5;241m=\u001b[39m\u001b[38;5;241m1\u001b[39m \u001b[38;5;241m-\u001b[39m beta2)\n\u001b[1;32m    269\u001b[0m \u001b[38;5;28;01mif\u001b[39;00m capturable:\n",
      "\u001b[0;31mKeyboardInterrupt\u001b[0m: "
     ]
    }
   ],
   "source": [
    "print(f\"----Training BERT Base for Yelp Review Task----\")\n",
    "\n",
    "\n",
    "### Number of Epochs\n",
    "epoch_no = 10\n",
    "### Learning Rate\n",
    "learning_rate = 2e-5\n",
    "### Adjust the batch size to avoid out-of-memory errors \n",
    "batch_size = 32 \n",
    "### Select random seed for finetuning\n",
    "seed = 0\n",
    "\n",
    "### Define what pre-trained model checkpoint you want to use \n",
    "### Different pretrained models are available\n",
    "### E.g. ['bert-base-uncased', 'distilbert-base-uncased', 'distilroberta', 'roberta-base',...]\n",
    "### Different models have different training procedure and architecture and hence different performance\n",
    "model_checkpoint = \"bert-base-uncased\"\n",
    "\n",
    "### Tokenizer to preprocess the input before feeding into the model\n",
    "tokenizer = AutoTokenizer.from_pretrained(model_checkpoint, use_fast=True, model_max_length = seq_len)\n",
    "\n",
    "\n",
    "### Yelp has 2 labels - 0 (Negative) or 1 (Positive)\n",
    "num_labels = 2\n",
    "\n",
    "### Using pretrained bert-base-uncased for SST2 Sentiment Classification\n",
    "model = BertForSequenceClassification.from_pretrained(model_checkpoint, num_labels=num_labels)\n",
    "print(f\"Pretrained Model for Yelp Review Task: {model_checkpoint}\")\n",
    "\n",
    "### ---------------Define arguments for training---------------\n",
    "###`TrainingArguments` is a class that contains all the attributes to customize \n",
    "### the training. It requires one folder name, which will be used to save the checkpoints \n",
    "### of the model, and all other arguments are optional:\n",
    "training_args = TrainingArguments(\n",
    "    f\"./BERT-Yelp-{seed}\", #Creates a directory named as provided\n",
    "    evaluation_strategy = \"epoch\", # Evaluate every epoch\n",
    "    save_strategy = \"epoch\", # Save every epoch\n",
    "    logging_strategy = \"epoch\", # Log every epoch\n",
    "    save_total_limit = 1, # Only save one epoch data (the best one)\n",
    "    learning_rate=learning_rate, # Learning rate - typically 2e-5 is used\n",
    "    per_device_train_batch_size=batch_size, # Training Batch Size\n",
    "    per_device_eval_batch_size=batch_size, # Validation Batch Size\n",
    "    num_train_epochs=epoch_no, # Number of Epochs\n",
    "    weight_decay=0.01, #Weight regularization\n",
    "    load_best_model_at_end=True, \n",
    "    metric_for_best_model=\"accuracy\", # Criteria for \"Best\" model \n",
    "    optim=\"adamw_torch\", #Optimizer\n",
    "    warmup_ratio = 0.1, \n",
    "    seed=seed\n",
    ")\n",
    "\n",
    "\n",
    "trainer = CustomTrainer(\n",
    "    model,\n",
    "    training_args,\n",
    "    train_dataset=encoded_dataset[\"train\"], # Train dataset\n",
    "    eval_dataset=encoded_dataset[\"test\"], # Val dataset\n",
    "    tokenizer=tokenizer,\n",
    "    compute_metrics=compute_metrics,\n",
    ")\n",
    "\n",
    "\n",
    "# Call trainer.train to start training\n",
    "trainer.train()"
   ]
  },
  {
   "cell_type": "markdown",
   "id": "aa4da238",
   "metadata": {},
   "source": [
    "### Plotting Training and Validation Loss and Accuracy Curves"
   ]
  },
  {
   "cell_type": "code",
   "execution_count": 10,
   "id": "13021eb1",
   "metadata": {},
   "outputs": [
    {
     "data": {
      "text/plain": [
       "Text(0.5, 1.0, 'Training vs Validation Accuracy')"
      ]
     },
     "execution_count": 10,
     "metadata": {},
     "output_type": "execute_result"
    },
    {
     "data": {
      "image/png": "[encoded data removed]",
      "text/plain": [
       "<Figure size 1200x600 with 2 Axes>"
      ]
     },
     "metadata": {},
     "output_type": "display_data"
    }
   ],
   "source": [
    "num_epochs_trained, train_loss_list, train_acc_list, val_loss_list, val_acc_list = get_history(\"./BERT-Yelp-0/checkpoint-203130/trainer_state.json\")\n",
    "\n",
    "epoch_list = [i for i in range(num_epochs_trained)]\n",
    "_, ax = plt.subplots(nrows = 1, ncols=2, figsize=(12,6))\n",
    "ax[0].plot(epoch_list, train_loss_list)\n",
    "ax[0].plot(epoch_list, val_loss_list)\n",
    "ax[0].legend([\"Train Loss\", \"Validation Loss\"])\n",
    "ax[0].set_xlabel(\"Epoch\")\n",
    "ax[0].set_ylabel(\"Loss\")\n",
    "ax[0].set_title(\"Training vs Validation Loss\")\n",
    "\n",
    "ax[1].plot(epoch_list, train_acc_list)\n",
    "ax[1].plot(epoch_list, val_acc_list)\n",
    "ax[1].legend([\"Train Accuracy\", \"Validation Accuracy\"])\n",
    "ax[1].set_ylabel(\"Accuracy\")\n",
    "ax[1].set_title(\"Training vs Validation Accuracy\")"
   ]
  }
 ],
 "metadata": {
  "kernelspec": {
   "display_name": "Python 3 (ipykernel)",
   "language": "python",
   "name": "python3"
  },
  "language_info": {
   "codemirror_mode": {
    "name": "ipython",
    "version": 3
   },
   "file_extension": ".py",
   "mimetype": "text/x-python",
   "name": "python",
   "nbconvert_exporter": "python",
   "pygments_lexer": "ipython3",
   "version": "3.8.10"
  }
 },
 "nbformat": 4,
 "nbformat_minor": 5
}
