{
 "cells": [
  {
   "cell_type": "markdown",
   "id": "dc6e9179",
   "metadata": {},
   "source": [
    "### Finetuning BERT base on SST2, IMDb, Yelp Dataset all at once \n",
    "The preprocessing functions defined in the `Preprocessing SST2, IMDb, Yelp Datasets.ipynb` jupyter notebook were used."
   ]
  },
  {
   "cell_type": "code",
   "execution_count": 21,
   "id": "0d3e5271",
   "metadata": {
    "scrolled": true
   },
   "outputs": [
    {
     "name": "stdout",
     "output_type": "stream",
     "text": [
      "cuda:0\n"
     ]
    }
   ],
   "source": [
    "import torch\n",
    "import numpy as np\n",
    "import pandas as pd \n",
    "from transformers.models.bert.modeling_bert import BertForSequenceClassification\n",
    "from transformers import AutoTokenizer, BertConfig\n",
    "from transformers import TrainingArguments, Trainer, TrainerCallback, EarlyStoppingCallback\n",
    "from datasets import load_dataset, load_metric \n",
    "import datasets \n",
    "import random\n",
    "import matplotlib.pyplot as plt\n",
    "import evaluate\n",
    "import json\n",
    "''' Taking a pretrained BERT (transformer-based) model and fine-tuning it on SST2 Dataset '''\n",
    "\n",
    "device = \"cuda:0\" if torch.cuda.is_available() else \"cpu\"\n",
    "print(device)"
   ]
  },
  {
   "cell_type": "code",
   "execution_count": 2,
   "id": "4025114d",
   "metadata": {},
   "outputs": [],
   "source": [
    "### Tokenizer to preprocess the input before feeding into the model\n",
    "seq_len = 128\n",
    "model_checkpoint = 'bert-base-uncased'\n",
    "tokenizer = AutoTokenizer.from_pretrained(model_checkpoint, use_fast=True, model_max_length = seq_len)"
   ]
  },
  {
   "cell_type": "code",
   "execution_count": 3,
   "id": "2d683445",
   "metadata": {
    "scrolled": false
   },
   "outputs": [
    {
     "data": {
      "application/vnd.jupyter.widget-view+json": {
       "model_id": "6b99290005634acdb0537bbf92cef5b3",
       "version_major": 2,
       "version_minor": 0
      },
      "text/plain": [
       "Downloading readme:   0%|          | 0.00/5.06k [00:00<?, ?B/s]"
      ]
     },
     "metadata": {},
     "output_type": "display_data"
    },
    {
     "name": "stderr",
     "output_type": "stream",
     "text": [
      "Found cached dataset sst2 (/home/weiming/.cache/huggingface/datasets/sst2/default/2.0.0/9896208a8d85db057ac50c72282bcb8fe755accc671a57dd8059d4e130961ed5)\n"
     ]
    },
    {
     "data": {
      "application/vnd.jupyter.widget-view+json": {
       "model_id": "6d8aae15ce59476a80ac090ebf8992f6",
       "version_major": 2,
       "version_minor": 0
      },
      "text/plain": [
       "  0%|          | 0/3 [00:00<?, ?it/s]"
      ]
     },
     "metadata": {},
     "output_type": "display_data"
    },
    {
     "name": "stderr",
     "output_type": "stream",
     "text": [
      "Found cached dataset imdb (/home/weiming/.cache/huggingface/datasets/imdb/plain_text/1.0.0/2fdd8b9bcadd6e7055e742a706876ba43f19faee861df134affd7a3f60fc38a1)\n"
     ]
    },
    {
     "data": {
      "application/vnd.jupyter.widget-view+json": {
       "model_id": "1e4e0e72bae24777b307e7daff7b25f1",
       "version_major": 2,
       "version_minor": 0
      },
      "text/plain": [
       "  0%|          | 0/3 [00:00<?, ?it/s]"
      ]
     },
     "metadata": {},
     "output_type": "display_data"
    },
    {
     "name": "stderr",
     "output_type": "stream",
     "text": [
      "Found cached dataset yelp_review_full (/home/weiming/.cache/huggingface/datasets/yelp_review_full/yelp_review_full/1.0.0/e8e18e19d7be9e75642fc66b198abadb116f73599ec89a69ba5dd8d1e57ba0bf)\n"
     ]
    },
    {
     "data": {
      "application/vnd.jupyter.widget-view+json": {
       "model_id": "96feea23a59447d085c48d91c49a81d5",
       "version_major": 2,
       "version_minor": 0
      },
      "text/plain": [
       "  0%|          | 0/2 [00:00<?, ?it/s]"
      ]
     },
     "metadata": {},
     "output_type": "display_data"
    }
   ],
   "source": [
    "sst2_dataset = load_dataset(\"sst2\")\n",
    "imdb_dataset = load_dataset(\"imdb\")\n",
    "yelp_dataset = load_dataset('yelp_review_full')"
   ]
  },
  {
   "cell_type": "markdown",
   "id": "097f08f9",
   "metadata": {},
   "source": [
    "### SST2 Preprocessing\n",
    "SST2 contains the column \"sentence\", \"label\", \"idx\" while IMDb and Yelp contains the column \"text\" and \"label\". \n",
    "\n",
    "We convert \"sentence\" to \"text\" for SST2 and remove the \"idx\" column. "
   ]
  },
  {
   "cell_type": "code",
   "execution_count": 4,
   "id": "4ca81d8f",
   "metadata": {
    "scrolled": false
   },
   "outputs": [
    {
     "name": "stderr",
     "output_type": "stream",
     "text": [
      "Loading cached processed dataset at /home/weiming/.cache/huggingface/datasets/sst2/default/2.0.0/9896208a8d85db057ac50c72282bcb8fe755accc671a57dd8059d4e130961ed5/cache-5fd88f9299d62c43.arrow\n"
     ]
    },
    {
     "data": {
      "application/vnd.jupyter.widget-view+json": {
       "model_id": "126d4b9ee8d743f59168e6f16ecae843",
       "version_major": 2,
       "version_minor": 0
      },
      "text/plain": [
       "  0%|          | 0/1 [00:00<?, ?ba/s]"
      ]
     },
     "metadata": {},
     "output_type": "display_data"
    },
    {
     "name": "stderr",
     "output_type": "stream",
     "text": [
      "Loading cached processed dataset at /home/weiming/.cache/huggingface/datasets/sst2/default/2.0.0/9896208a8d85db057ac50c72282bcb8fe755accc671a57dd8059d4e130961ed5/cache-a7a27b12044e9a1b.arrow\n"
     ]
    }
   ],
   "source": [
    "# Preprocessing the data - converting words into vectors using tokenizers\n",
    "def preprocess_function(examples):\n",
    "    return tokenizer(examples[\"sentence\"],  max_length=seq_len, padding = \"max_length\", truncation=True,)\n",
    "\n",
    "\n",
    "sst2_dataset = sst2_dataset.map(preprocess_function, batched=True)\n",
    "sst2_dataset = sst2_dataset.rename_column(\"sentence\", \"text\")\n",
    "sst2_dataset = sst2_dataset.remove_columns(['idx'])"
   ]
  },
  {
   "cell_type": "markdown",
   "id": "0ab7e467",
   "metadata": {},
   "source": [
    "### IMDb Preprocessing\n",
    "\n",
    "The class labels of IMDb dataset is 'neg' and 'pos' while the class labels of SST-2 dataset is 'negative' and 'positive'. In order to concantenate both datasets together, we need to standardize the naming."
   ]
  },
  {
   "cell_type": "code",
   "execution_count": 5,
   "id": "f3e25b82",
   "metadata": {
    "scrolled": true
   },
   "outputs": [
    {
     "name": "stderr",
     "output_type": "stream",
     "text": [
      "Loading cached processed dataset at /home/weiming/.cache/huggingface/datasets/imdb/plain_text/1.0.0/2fdd8b9bcadd6e7055e742a706876ba43f19faee861df134affd7a3f60fc38a1/cache-84ec0b414a0dbdd7.arrow\n",
      "Loading cached processed dataset at /home/weiming/.cache/huggingface/datasets/imdb/plain_text/1.0.0/2fdd8b9bcadd6e7055e742a706876ba43f19faee861df134affd7a3f60fc38a1/cache-8922a968289d99de.arrow\n"
     ]
    },
    {
     "data": {
      "application/vnd.jupyter.widget-view+json": {
       "model_id": "ec1d994ad3c64576953ec3342b8d3c83",
       "version_major": 2,
       "version_minor": 0
      },
      "text/plain": [
       "  0%|          | 0/25 [00:00<?, ?ba/s]"
      ]
     },
     "metadata": {},
     "output_type": "display_data"
    },
    {
     "data": {
      "application/vnd.jupyter.widget-view+json": {
       "model_id": "a2039f8f3feb4b02935b7fa4e049c533",
       "version_major": 2,
       "version_minor": 0
      },
      "text/plain": [
       "  0%|          | 0/25 [00:00<?, ?ba/s]"
      ]
     },
     "metadata": {},
     "output_type": "display_data"
    },
    {
     "data": {
      "application/vnd.jupyter.widget-view+json": {
       "model_id": "85172bb49f9d4bce96abce0f004abcf5",
       "version_major": 2,
       "version_minor": 0
      },
      "text/plain": [
       "  0%|          | 0/50 [00:00<?, ?ba/s]"
      ]
     },
     "metadata": {},
     "output_type": "display_data"
    },
    {
     "data": {
      "application/vnd.jupyter.widget-view+json": {
       "model_id": "020d49fb3fad4ec9b09d831b12cf9878",
       "version_major": 2,
       "version_minor": 0
      },
      "text/plain": [
       "  0%|          | 0/25 [00:00<?, ?ba/s]"
      ]
     },
     "metadata": {},
     "output_type": "display_data"
    },
    {
     "data": {
      "application/vnd.jupyter.widget-view+json": {
       "model_id": "d3f7e5d2aff842c0a994b9c47cc33ff7",
       "version_major": 2,
       "version_minor": 0
      },
      "text/plain": [
       "  0%|          | 0/25 [00:00<?, ?ba/s]"
      ]
     },
     "metadata": {},
     "output_type": "display_data"
    },
    {
     "data": {
      "application/vnd.jupyter.widget-view+json": {
       "model_id": "d306c45bd7cd423a98fa5bb87c5627fc",
       "version_major": 2,
       "version_minor": 0
      },
      "text/plain": [
       "  0%|          | 0/50 [00:00<?, ?ba/s]"
      ]
     },
     "metadata": {},
     "output_type": "display_data"
    }
   ],
   "source": [
    "### Removing <br /><br /> from the dataset\n",
    "def preprocess_function_1(examples):\n",
    "    for i in range(len(examples['text'])):\n",
    "        examples['text'][i] = examples['text'][i].replace('<br /><br />', \" \")\n",
    "    return examples\n",
    "\n",
    "### Tokenizing words into integer for embedding layer in BERT\n",
    "def preprocess_function_2(examples):\n",
    "    return tokenizer(examples['text'],max_length=seq_len, padding = \"max_length\",truncation=True)\n",
    "\n",
    "\n",
    "imdb_new_features = imdb_dataset[\"train\"].features.copy()\n",
    "imdb_new_features[\"label\"] = datasets.ClassLabel(names=[\"negative\", \"positive\"])\n",
    "imdb_dataset[\"train\"] = imdb_dataset[\"train\"].cast(imdb_new_features)\n",
    "\n",
    "imdb_new_features = imdb_dataset[\"test\"].features.copy()\n",
    "imdb_new_features[\"label\"] = datasets.ClassLabel(names=[\"negative\", \"positive\"])\n",
    "imdb_dataset[\"test\"] = imdb_dataset[\"test\"].cast(imdb_new_features)\n",
    "\n",
    "imdb_dataset = imdb_dataset.map(preprocess_function_1, batched=True)\n",
    "imdb_dataset = imdb_dataset.map(preprocess_function_2, batched=True)"
   ]
  },
  {
   "cell_type": "markdown",
   "id": "56c21b06",
   "metadata": {},
   "source": [
    "### Discarding 3-Star Review from Yelp, Setting 1/2-Star as Negative Sentiment, Setting 4/5-Star as Positive Sentiment"
   ]
  },
  {
   "cell_type": "code",
   "execution_count": 6,
   "id": "52dc2548",
   "metadata": {
    "scrolled": true
   },
   "outputs": [
    {
     "name": "stderr",
     "output_type": "stream",
     "text": [
      "Found cached dataset yelp_review_full (/home/weiming/.cache/huggingface/datasets/yelp_review_full/yelp_review_full/1.0.0/e8e18e19d7be9e75642fc66b198abadb116f73599ec89a69ba5dd8d1e57ba0bf)\n"
     ]
    },
    {
     "data": {
      "application/vnd.jupyter.widget-view+json": {
       "model_id": "24e8930736eb47a893abbbb227cb8c7e",
       "version_major": 2,
       "version_minor": 0
      },
      "text/plain": [
       "  0%|          | 0/2 [00:00<?, ?it/s]"
      ]
     },
     "metadata": {},
     "output_type": "display_data"
    },
    {
     "name": "stdout",
     "output_type": "stream",
     "text": [
      "-------------Before Preprocessing---------------\n",
      "Mapping of Labels for Yelp Training Dataset\n",
      "0: 1 star\n",
      "1: 2 star\n",
      "2: 3 stars\n",
      "3: 4 stars\n",
      "4: 5 stars\n",
      "\n",
      "Mapping of Labels for Yelp Validation Dataset\n",
      "0: 1 star\n",
      "1: 2 star\n",
      "2: 3 stars\n",
      "3: 4 stars\n",
      "4: 5 stars\n"
     ]
    },
    {
     "name": "stderr",
     "output_type": "stream",
     "text": [
      "/tmp/ipykernel_1005934/2609836007.py:25: SettingWithCopyWarning: \n",
      "A value is trying to be set on a copy of a slice from a DataFrame\n",
      "\n",
      "See the caveats in the documentation: https://pandas.pydata.org/pandas-docs/stable/user_guide/indexing.html#returning-a-view-versus-a-copy\n",
      "  df_train['label'].loc[(df_train['label'] == 3) | (df_train['label'] == 4)] = 1\n",
      "/tmp/ipykernel_1005934/2609836007.py:29: SettingWithCopyWarning: \n",
      "A value is trying to be set on a copy of a slice from a DataFrame\n",
      "\n",
      "See the caveats in the documentation: https://pandas.pydata.org/pandas-docs/stable/user_guide/indexing.html#returning-a-view-versus-a-copy\n",
      "  df_test['label'].loc[(df_test['label'] == 3) | (df_test['label'] == 4)] = 1\n"
     ]
    },
    {
     "data": {
      "application/vnd.jupyter.widget-view+json": {
       "model_id": "15db075c7f34415d8de019799812e805",
       "version_major": 2,
       "version_minor": 0
      },
      "text/plain": [
       "Casting the dataset:   0%|          | 0/52 [00:00<?, ?ba/s]"
      ]
     },
     "metadata": {},
     "output_type": "display_data"
    },
    {
     "data": {
      "application/vnd.jupyter.widget-view+json": {
       "model_id": "97a1b9538d4e49b0832a5fc6b552153d",
       "version_major": 2,
       "version_minor": 0
      },
      "text/plain": [
       "Casting the dataset:   0%|          | 0/4 [00:00<?, ?ba/s]"
      ]
     },
     "metadata": {},
     "output_type": "display_data"
    },
    {
     "name": "stdout",
     "output_type": "stream",
     "text": [
      "-------------After Preprocessing---------------\n",
      "Mapping of Labels for Yelp Training Dataset\n",
      "0: negative\n",
      "1: positive\n",
      "\n",
      "Mapping of Labels for Yelp Validation Dataset\n",
      "0: negative\n",
      "1: positive\n"
     ]
    }
   ],
   "source": [
    "yelp_dataset = load_dataset('yelp_review_full')\n",
    "\n",
    "print(\"-------------Before Preprocessing---------------\")\n",
    "print(\"Mapping of Labels for Yelp Training Dataset\")\n",
    "for i in range(yelp_dataset['train'].features['label'].num_classes):\n",
    "    print(f\"{i}: {yelp_dataset['train'].features['label'].int2str(i)}\")\n",
    "\n",
    "print()\n",
    "\n",
    "print(\"Mapping of Labels for Yelp Validation Dataset\")\n",
    "for i in range(yelp_dataset['test'].features['label'].num_classes):\n",
    "    print(f\"{i}: {yelp_dataset['test'].features['label'].int2str(i)}\")\n",
    "    \n",
    "\n",
    "### Converting Yelp Dataset into Pandas Dataframe\n",
    "df_train = pd.DataFrame(yelp_dataset[\"train\"])\n",
    "df_test = pd.DataFrame(yelp_dataset[\"test\"])\n",
    "\n",
    "### Remove 3-Star Labels\n",
    "df_train = df_train[df_train.label != 2]\n",
    "df_test = df_test[df_test.label != 2]\n",
    "\n",
    "### Set 1/2-Star Labels as 0 (Negative)\n",
    "df_train['label'].loc[(df_train['label'] == 0) | (df_train['label'] == 1)] = 0\n",
    "df_train['label'].loc[(df_train['label'] == 3) | (df_train['label'] == 4)] = 1\n",
    "\n",
    "### Set 4/5-Star Labels as 0 (Positive)\n",
    "df_test['label'].loc[(df_test['label'] == 0) | (df_test['label'] == 1)] = 0\n",
    "df_test['label'].loc[(df_test['label'] == 3) | (df_test['label'] == 4)] = 1\n",
    "\n",
    "### Convert back to Dataset from pandas Dataframe\n",
    "yelp_ds_train = datasets.Dataset.from_pandas(df_train)\n",
    "yelp_ds_train = yelp_ds_train.remove_columns('__index_level_0__')\n",
    "yelp_new_features = yelp_ds_train.features.copy()\n",
    "yelp_new_features[\"label\"] = datasets.ClassLabel(names=[\"negative\", \"positive\"])\n",
    "yelp_ds_train = yelp_ds_train.cast(yelp_new_features)\n",
    "\n",
    "yelp_ds_test = datasets.Dataset.from_pandas(df_test)\n",
    "yelp_ds_test = yelp_ds_test.remove_columns('__index_level_0__')\n",
    "yelp_new_features = yelp_ds_test.features.copy()\n",
    "yelp_new_features[\"label\"] = datasets.ClassLabel(names=[\"negative\", \"positive\"])\n",
    "yelp_ds_test = yelp_ds_test.cast(yelp_new_features)\n",
    "\n",
    "yelp_dataset = datasets.DatasetDict()\n",
    "yelp_dataset[\"train\"] = yelp_ds_train\n",
    "yelp_dataset[\"test\"] = yelp_ds_test\n",
    "\n",
    "print(\"-------------After Preprocessing---------------\")\n",
    "print(\"Mapping of Labels for Yelp Training Dataset\")\n",
    "for i in range(yelp_dataset['train'].features['label'].num_classes):\n",
    "    print(f\"{i}: {yelp_dataset['train'].features['label'].int2str(i)}\")\n",
    "\n",
    "print()\n",
    "\n",
    "print(\"Mapping of Labels for Yelp Validation Dataset\")\n",
    "for i in range(yelp_dataset['test'].features['label'].num_classes):\n",
    "    print(f\"{i}: {yelp_dataset['test'].features['label'].int2str(i)}\")\n",
    "    "
   ]
  },
  {
   "cell_type": "markdown",
   "id": "2d4c2bff",
   "metadata": {},
   "source": [
    "### Yelp Further Preprocessing"
   ]
  },
  {
   "cell_type": "code",
   "execution_count": 7,
   "id": "7c22362f",
   "metadata": {},
   "outputs": [
    {
     "data": {
      "application/vnd.jupyter.widget-view+json": {
       "model_id": "1466a24869af4214a2b08bd59a503c36",
       "version_major": 2,
       "version_minor": 0
      },
      "text/plain": [
       "  0%|          | 0/520 [00:00<?, ?ba/s]"
      ]
     },
     "metadata": {},
     "output_type": "display_data"
    },
    {
     "data": {
      "application/vnd.jupyter.widget-view+json": {
       "model_id": "148171bd2e254fe28888cc081cc5b6db",
       "version_major": 2,
       "version_minor": 0
      },
      "text/plain": [
       "  0%|          | 0/40 [00:00<?, ?ba/s]"
      ]
     },
     "metadata": {},
     "output_type": "display_data"
    },
    {
     "data": {
      "application/vnd.jupyter.widget-view+json": {
       "model_id": "a95eb1a57ef8425a8bdffb0c11e1bbf4",
       "version_major": 2,
       "version_minor": 0
      },
      "text/plain": [
       "  0%|          | 0/520 [00:00<?, ?ba/s]"
      ]
     },
     "metadata": {},
     "output_type": "display_data"
    },
    {
     "data": {
      "application/vnd.jupyter.widget-view+json": {
       "model_id": "45f14e9278bb4af9b8836ffe4f29b43a",
       "version_major": 2,
       "version_minor": 0
      },
      "text/plain": [
       "  0%|          | 0/40 [00:00<?, ?ba/s]"
      ]
     },
     "metadata": {},
     "output_type": "display_data"
    }
   ],
   "source": [
    "### Removing '\\\\n' and replacing \\\\\" with \" from the dataset \n",
    "def preprocess_function_1(examples):\n",
    "    for i in range(len(examples['text'])):\n",
    "        examples['text'][i] = examples['text'][i].replace('\\\\n', \" \")\n",
    "        examples['text'][i] = examples['text'][i].replace('\\\\\"', '\"')\n",
    "\n",
    "    return examples\n",
    "\n",
    "### Tokenizing words into integer for embedding layer in BERT\n",
    "seq_len = 128\n",
    "def preprocess_function_2(examples):\n",
    "    return tokenizer(examples['text'],max_length=seq_len, padding = \"max_length\",truncation=True)    \n",
    "    \n",
    "\n",
    "yelp_dataset = yelp_dataset.map(preprocess_function_1, batched=True)\n",
    "yelp_dataset = yelp_dataset.map(preprocess_function_2, batched=True)"
   ]
  },
  {
   "cell_type": "code",
   "execution_count": 8,
   "id": "2cc86e56",
   "metadata": {
    "scrolled": false
   },
   "outputs": [
    {
     "name": "stdout",
     "output_type": "stream",
     "text": [
      "DatasetDict({\n",
      "    train: Dataset({\n",
      "        features: ['text', 'label', 'input_ids', 'token_type_ids', 'attention_mask'],\n",
      "        num_rows: 67349\n",
      "    })\n",
      "    validation: Dataset({\n",
      "        features: ['text', 'label', 'input_ids', 'token_type_ids', 'attention_mask'],\n",
      "        num_rows: 872\n",
      "    })\n",
      "    test: Dataset({\n",
      "        features: ['text', 'label', 'input_ids', 'token_type_ids', 'attention_mask'],\n",
      "        num_rows: 1821\n",
      "    })\n",
      "})\n",
      "DatasetDict({\n",
      "    train: Dataset({\n",
      "        features: ['text', 'label', 'input_ids', 'token_type_ids', 'attention_mask'],\n",
      "        num_rows: 25000\n",
      "    })\n",
      "    test: Dataset({\n",
      "        features: ['text', 'label', 'input_ids', 'token_type_ids', 'attention_mask'],\n",
      "        num_rows: 25000\n",
      "    })\n",
      "    unsupervised: Dataset({\n",
      "        features: ['text', 'label', 'input_ids', 'token_type_ids', 'attention_mask'],\n",
      "        num_rows: 50000\n",
      "    })\n",
      "})\n",
      "DatasetDict({\n",
      "    train: Dataset({\n",
      "        features: ['label', 'text', 'input_ids', 'token_type_ids', 'attention_mask'],\n",
      "        num_rows: 520000\n",
      "    })\n",
      "    test: Dataset({\n",
      "        features: ['label', 'text', 'input_ids', 'token_type_ids', 'attention_mask'],\n",
      "        num_rows: 40000\n",
      "    })\n",
      "})\n"
     ]
    }
   ],
   "source": [
    "print(sst2_dataset)\n",
    "print(imdb_dataset)\n",
    "print(yelp_dataset)"
   ]
  },
  {
   "cell_type": "code",
   "execution_count": 10,
   "id": "f90b9566",
   "metadata": {
    "scrolled": false
   },
   "outputs": [
    {
     "name": "stdout",
     "output_type": "stream",
     "text": [
      "Dataset({\n",
      "    features: ['text', 'label', 'input_ids', 'token_type_ids', 'attention_mask'],\n",
      "    num_rows: 612349\n",
      "})\n",
      "Dataset({\n",
      "    features: ['text', 'label', 'input_ids', 'token_type_ids', 'attention_mask'],\n",
      "    num_rows: 65872\n",
      "})\n"
     ]
    }
   ],
   "source": [
    "### Concatenate SST2, IMDb, Yelp Dataset into a single dataset\n",
    "train_ds = datasets.concatenate_datasets([sst2_dataset['train'], imdb_dataset['train'], yelp_dataset['train']])\n",
    "val_ds = datasets.concatenate_datasets([sst2_dataset['validation'], imdb_dataset['test'], yelp_dataset['test']])\n",
    "\n",
    "print(train_ds)\n",
    "print(val_ds)"
   ]
  },
  {
   "cell_type": "code",
   "execution_count": 13,
   "id": "e6f23392",
   "metadata": {},
   "outputs": [
    {
     "name": "stdout",
     "output_type": "stream",
     "text": [
      "Mapping of Labels for Training Dataset\n",
      "0: negative\n",
      "1: positive\n",
      "\n",
      "Mapping of Labels for Validation Dataset\n",
      "0: negative\n",
      "1: positive\n"
     ]
    }
   ],
   "source": [
    "print(\"Mapping of Labels for Training Dataset\")\n",
    "for i in range(train_ds.features['label'].num_classes):\n",
    "    print(f\"{i}: {train_ds.features['label'].int2str(i)}\")\n",
    "\n",
    "print()\n",
    "\n",
    "print(\"Mapping of Labels for Validation Dataset\")\n",
    "for i in range(val_ds.features['label'].num_classes):\n",
    "    print(f\"{i}: {val_ds.features['label'].int2str(i)}\")\n",
    "    "
   ]
  },
  {
   "cell_type": "code",
   "execution_count": 14,
   "id": "7d200f6f",
   "metadata": {},
   "outputs": [
    {
     "name": "stdout",
     "output_type": "stream",
     "text": [
      "Min Seq Length (Train): 1\n",
      "Max Seq Length (Train): 2460\n",
      "Min Seq Length (Validation): 1\n",
      "Max Seq Length (Validation): 2235\n"
     ]
    },
    {
     "data": {
      "image/png": "[encoded data removed]",
      "text/plain": [
       "<Figure size 1000x400 with 2 Axes>"
      ]
     },
     "metadata": {},
     "output_type": "display_data"
    }
   ],
   "source": [
    "list_of_seq_len_train = []\n",
    "list_of_seq_len_val = []\n",
    "for seq in train_ds[\"text\"]:\n",
    "    # For each sequence, count how many words are there\n",
    "    list_of_seq_len_train.append(len(seq.split(\" \")))\n",
    "\n",
    "for seq in val_ds[\"text\"]:\n",
    "    # For each sequence, count how many words are there\n",
    "    list_of_seq_len_val.append(len(seq.split(\" \")))\n",
    "    \n",
    "print(f\"\\\n",
    "Min Seq Length (Train): {min(list_of_seq_len_train)}\\n\\\n",
    "Max Seq Length (Train): {max(list_of_seq_len_train)}\\n\\\n",
    "Min Seq Length (Validation): {min(list_of_seq_len_val)}\\n\\\n",
    "Max Seq Length (Validation): {max(list_of_seq_len_val)}\\\n",
    "\")\n",
    "\n",
    "bins_train = np.arange(0, max(list_of_seq_len_train))\n",
    "seq_len_hist_train, bins_train = np.histogram(list_of_seq_len_train, bins_train)\n",
    "\n",
    "bins_val = np.arange(0, max(list_of_seq_len_val))\n",
    "seq_len_hist_val, bins_val = np.histogram(list_of_seq_len_val, bins_val)\n",
    "\n",
    "f, ax = plt.subplots(nrows = 1, ncols=2, figsize = (10, 4))\n",
    "\n",
    "ax[0].stairs(seq_len_hist_train, bins_train, fill=True)\n",
    "ax[0].set_xlabel(\"Seq. Length\")\n",
    "ax[0].set_ylabel(\"Number of Sequences\")\n",
    "ax[0].set_title(\"Seq. Length Histogram of Training Dataset\")\n",
    "\n",
    "ax[1].stairs(seq_len_hist_val, bins_val, fill=True)\n",
    "ax[1].set_xlabel(\"Seq. Length\")\n",
    "ax[1].set_ylabel(\"Number of Sequences\")\n",
    "ax[1].set_title(\"Seq. Length Histogram of Validation Dataset\")\n",
    "plt.show()"
   ]
  },
  {
   "cell_type": "markdown",
   "id": "907d8ae3",
   "metadata": {},
   "source": [
    "### Finetuning BERT Base Uncased Model on Combined Dataset"
   ]
  },
  {
   "cell_type": "code",
   "execution_count": 16,
   "id": "ec2889b8",
   "metadata": {},
   "outputs": [],
   "source": [
    "def compute_metrics(eval_preds):\n",
    "    metric = load_metric(\"accuracy\")\n",
    "    logits, labels = eval_preds\n",
    "    predictions = np.argmax(logits, axis=-1)\n",
    "    return metric.compute(predictions=predictions, references=labels)\n",
    "\n",
    "class CustomTrainer(Trainer):\n",
    "    def _maybe_log_save_evaluate(self, tr_loss, model, trial, epoch, ignore_keys_for_eval):\n",
    "        if self.control.should_log:\n",
    "\n",
    "            logs: Dict[str, float] = {}\n",
    "\n",
    "            # all_gather + mean() to get average loss over all processes\n",
    "            tr_loss_scalar = self._nested_gather(tr_loss).mean().item()\n",
    "\n",
    "            # reset tr_loss to zero\n",
    "            tr_loss -= tr_loss\n",
    "            \n",
    "            \n",
    "            logs[\"loss\"] = round(tr_loss_scalar / (self.state.global_step - self._globalstep_last_logged), 4)\n",
    "            logs[\"accuracy\"] = self.predict(test_dataset=self.train_dataset, metric_key_prefix=\"train\").metrics['train_accuracy']\n",
    "            logs[\"learning_rate\"] = self._get_learning_rate()\n",
    "\n",
    "            self._total_loss_scalar += tr_loss_scalar\n",
    "            self._globalstep_last_logged = self.state.global_step\n",
    "            self.store_flos()\n",
    "\n",
    "            self.log(logs)\n",
    "\n",
    "        metrics = None\n",
    "        if self.control.should_evaluate:\n",
    "            metrics = self.evaluate(ignore_keys=ignore_keys_for_eval)\n",
    "            self._report_to_hp_search(trial, epoch, metrics)\n",
    "\n",
    "        if self.control.should_save:\n",
    "            self._save_checkpoint(model, trial, metrics=metrics)\n",
    "            self.control = self.callback_handler.on_save(self.args, self.state, self.control)\n"
   ]
  },
  {
   "cell_type": "code",
   "execution_count": 17,
   "id": "99bffb01",
   "metadata": {},
   "outputs": [],
   "source": [
    "### Freeze all parameters from embedding layer to enc_layers_to_freeze layers\n",
    "def freeze_bert_layers(model, enc_layers_to_freeze):\n",
    "    # Freeze Embedding Layer\n",
    "    for name, param in model.named_parameters():\n",
    "        if \"embeddings\" in name:\n",
    "            param.requires_grad = False\n",
    "            \n",
    "    # Freeze encoder layers from the encoder layer closest to the embedding layer\n",
    "    for i in range(enc_layers_to_freeze):\n",
    "        for name, param in model.named_parameters():\n",
    "            if f\"layer.{i}.\" in name:\n",
    "                param.requires_grad = False\n",
    "                \n",
    "    return model\n",
    "\n",
    "### Display all unfrozen parameters - sanity check\n",
    "def print_unfrozen_layers(model):\n",
    "    print(\"--------------Unfrozen Parameters--------------\")\n",
    "    for name, param in model.named_parameters():\n",
    "        if param.requires_grad == True:\n",
    "            print(name)"
   ]
  },
  {
   "cell_type": "code",
   "execution_count": 22,
   "id": "06dd0d6e",
   "metadata": {},
   "outputs": [
    {
     "name": "stdout",
     "output_type": "stream",
     "text": [
      "----Training BERT Base on Combined Dataset----\n"
     ]
    },
    {
     "name": "stderr",
     "output_type": "stream",
     "text": [
      "Some weights of the model checkpoint at bert-base-uncased were not used when initializing BertForSequenceClassification: ['cls.predictions.transform.dense.bias', 'cls.seq_relationship.bias', 'cls.predictions.transform.dense.weight', 'cls.seq_relationship.weight', 'cls.predictions.transform.LayerNorm.weight', 'cls.predictions.transform.LayerNorm.bias', 'cls.predictions.decoder.weight', 'cls.predictions.bias']\n",
      "- This IS expected if you are initializing BertForSequenceClassification from the checkpoint of a model trained on another task or with another architecture (e.g. initializing a BertForSequenceClassification model from a BertForPreTraining model).\n",
      "- This IS NOT expected if you are initializing BertForSequenceClassification from the checkpoint of a model that you expect to be exactly identical (initializing a BertForSequenceClassification model from a BertForSequenceClassification model).\n",
      "Some weights of BertForSequenceClassification were not initialized from the model checkpoint at bert-base-uncased and are newly initialized: ['classifier.weight', 'classifier.bias']\n",
      "You should probably TRAIN this model on a down-stream task to be able to use it for predictions and inference.\n"
     ]
    },
    {
     "name": "stdout",
     "output_type": "stream",
     "text": [
      "Pretrained Model for Combined Task: bert-base-uncased\n",
      "--------------Unfrozen Parameters--------------\n",
      "bert.encoder.layer.2.attention.self.query.weight\n",
      "bert.encoder.layer.2.attention.self.query.bias\n",
      "bert.encoder.layer.2.attention.self.key.weight\n",
      "bert.encoder.layer.2.attention.self.key.bias\n",
      "bert.encoder.layer.2.attention.self.value.weight\n",
      "bert.encoder.layer.2.attention.self.value.bias\n",
      "bert.encoder.layer.2.attention.output.dense.weight\n",
      "bert.encoder.layer.2.attention.output.dense.bias\n",
      "bert.encoder.layer.2.attention.output.LayerNorm.weight\n",
      "bert.encoder.layer.2.attention.output.LayerNorm.bias\n",
      "bert.encoder.layer.2.intermediate.dense.weight\n",
      "bert.encoder.layer.2.intermediate.dense.bias\n",
      "bert.encoder.layer.2.output.dense.weight\n",
      "bert.encoder.layer.2.output.dense.bias\n",
      "bert.encoder.layer.2.output.LayerNorm.weight\n",
      "bert.encoder.layer.2.output.LayerNorm.bias\n",
      "bert.encoder.layer.3.attention.self.query.weight\n",
      "bert.encoder.layer.3.attention.self.query.bias\n",
      "bert.encoder.layer.3.attention.self.key.weight\n",
      "bert.encoder.layer.3.attention.self.key.bias\n",
      "bert.encoder.layer.3.attention.self.value.weight\n",
      "bert.encoder.layer.3.attention.self.value.bias\n",
      "bert.encoder.layer.3.attention.output.dense.weight\n",
      "bert.encoder.layer.3.attention.output.dense.bias\n",
      "bert.encoder.layer.3.attention.output.LayerNorm.weight\n",
      "bert.encoder.layer.3.attention.output.LayerNorm.bias\n",
      "bert.encoder.layer.3.intermediate.dense.weight\n",
      "bert.encoder.layer.3.intermediate.dense.bias\n",
      "bert.encoder.layer.3.output.dense.weight\n",
      "bert.encoder.layer.3.output.dense.bias\n",
      "bert.encoder.layer.3.output.LayerNorm.weight\n",
      "bert.encoder.layer.3.output.LayerNorm.bias\n",
      "bert.encoder.layer.4.attention.self.query.weight\n",
      "bert.encoder.layer.4.attention.self.query.bias\n",
      "bert.encoder.layer.4.attention.self.key.weight\n",
      "bert.encoder.layer.4.attention.self.key.bias\n",
      "bert.encoder.layer.4.attention.self.value.weight\n",
      "bert.encoder.layer.4.attention.self.value.bias\n",
      "bert.encoder.layer.4.attention.output.dense.weight\n",
      "bert.encoder.layer.4.attention.output.dense.bias\n",
      "bert.encoder.layer.4.attention.output.LayerNorm.weight\n",
      "bert.encoder.layer.4.attention.output.LayerNorm.bias\n",
      "bert.encoder.layer.4.intermediate.dense.weight\n",
      "bert.encoder.layer.4.intermediate.dense.bias\n",
      "bert.encoder.layer.4.output.dense.weight\n",
      "bert.encoder.layer.4.output.dense.bias\n",
      "bert.encoder.layer.4.output.LayerNorm.weight\n",
      "bert.encoder.layer.4.output.LayerNorm.bias\n",
      "bert.encoder.layer.5.attention.self.query.weight\n",
      "bert.encoder.layer.5.attention.self.query.bias\n",
      "bert.encoder.layer.5.attention.self.key.weight\n",
      "bert.encoder.layer.5.attention.self.key.bias\n",
      "bert.encoder.layer.5.attention.self.value.weight\n",
      "bert.encoder.layer.5.attention.self.value.bias\n",
      "bert.encoder.layer.5.attention.output.dense.weight\n",
      "bert.encoder.layer.5.attention.output.dense.bias\n",
      "bert.encoder.layer.5.attention.output.LayerNorm.weight\n",
      "bert.encoder.layer.5.attention.output.LayerNorm.bias\n",
      "bert.encoder.layer.5.intermediate.dense.weight\n",
      "bert.encoder.layer.5.intermediate.dense.bias\n",
      "bert.encoder.layer.5.output.dense.weight\n",
      "bert.encoder.layer.5.output.dense.bias\n",
      "bert.encoder.layer.5.output.LayerNorm.weight\n",
      "bert.encoder.layer.5.output.LayerNorm.bias\n",
      "bert.encoder.layer.6.attention.self.query.weight\n",
      "bert.encoder.layer.6.attention.self.query.bias\n",
      "bert.encoder.layer.6.attention.self.key.weight\n",
      "bert.encoder.layer.6.attention.self.key.bias\n",
      "bert.encoder.layer.6.attention.self.value.weight\n",
      "bert.encoder.layer.6.attention.self.value.bias\n",
      "bert.encoder.layer.6.attention.output.dense.weight\n",
      "bert.encoder.layer.6.attention.output.dense.bias\n",
      "bert.encoder.layer.6.attention.output.LayerNorm.weight\n",
      "bert.encoder.layer.6.attention.output.LayerNorm.bias\n",
      "bert.encoder.layer.6.intermediate.dense.weight\n",
      "bert.encoder.layer.6.intermediate.dense.bias\n",
      "bert.encoder.layer.6.output.dense.weight\n",
      "bert.encoder.layer.6.output.dense.bias\n",
      "bert.encoder.layer.6.output.LayerNorm.weight\n",
      "bert.encoder.layer.6.output.LayerNorm.bias\n",
      "bert.encoder.layer.7.attention.self.query.weight\n",
      "bert.encoder.layer.7.attention.self.query.bias\n",
      "bert.encoder.layer.7.attention.self.key.weight\n",
      "bert.encoder.layer.7.attention.self.key.bias\n",
      "bert.encoder.layer.7.attention.self.value.weight\n",
      "bert.encoder.layer.7.attention.self.value.bias\n",
      "bert.encoder.layer.7.attention.output.dense.weight\n",
      "bert.encoder.layer.7.attention.output.dense.bias\n",
      "bert.encoder.layer.7.attention.output.LayerNorm.weight\n",
      "bert.encoder.layer.7.attention.output.LayerNorm.bias\n",
      "bert.encoder.layer.7.intermediate.dense.weight\n",
      "bert.encoder.layer.7.intermediate.dense.bias\n",
      "bert.encoder.layer.7.output.dense.weight\n",
      "bert.encoder.layer.7.output.dense.bias\n",
      "bert.encoder.layer.7.output.LayerNorm.weight\n",
      "bert.encoder.layer.7.output.LayerNorm.bias\n",
      "bert.encoder.layer.8.attention.self.query.weight\n",
      "bert.encoder.layer.8.attention.self.query.bias\n",
      "bert.encoder.layer.8.attention.self.key.weight\n",
      "bert.encoder.layer.8.attention.self.key.bias\n",
      "bert.encoder.layer.8.attention.self.value.weight\n",
      "bert.encoder.layer.8.attention.self.value.bias\n",
      "bert.encoder.layer.8.attention.output.dense.weight\n",
      "bert.encoder.layer.8.attention.output.dense.bias\n",
      "bert.encoder.layer.8.attention.output.LayerNorm.weight\n",
      "bert.encoder.layer.8.attention.output.LayerNorm.bias\n",
      "bert.encoder.layer.8.intermediate.dense.weight\n",
      "bert.encoder.layer.8.intermediate.dense.bias\n",
      "bert.encoder.layer.8.output.dense.weight\n",
      "bert.encoder.layer.8.output.dense.bias\n",
      "bert.encoder.layer.8.output.LayerNorm.weight\n",
      "bert.encoder.layer.8.output.LayerNorm.bias\n",
      "bert.encoder.layer.9.attention.self.query.weight\n",
      "bert.encoder.layer.9.attention.self.query.bias\n",
      "bert.encoder.layer.9.attention.self.key.weight\n",
      "bert.encoder.layer.9.attention.self.key.bias\n",
      "bert.encoder.layer.9.attention.self.value.weight\n",
      "bert.encoder.layer.9.attention.self.value.bias\n",
      "bert.encoder.layer.9.attention.output.dense.weight\n",
      "bert.encoder.layer.9.attention.output.dense.bias\n",
      "bert.encoder.layer.9.attention.output.LayerNorm.weight\n",
      "bert.encoder.layer.9.attention.output.LayerNorm.bias\n",
      "bert.encoder.layer.9.intermediate.dense.weight\n",
      "bert.encoder.layer.9.intermediate.dense.bias\n",
      "bert.encoder.layer.9.output.dense.weight\n",
      "bert.encoder.layer.9.output.dense.bias\n",
      "bert.encoder.layer.9.output.LayerNorm.weight\n",
      "bert.encoder.layer.9.output.LayerNorm.bias\n",
      "bert.encoder.layer.10.attention.self.query.weight\n",
      "bert.encoder.layer.10.attention.self.query.bias\n",
      "bert.encoder.layer.10.attention.self.key.weight\n",
      "bert.encoder.layer.10.attention.self.key.bias\n",
      "bert.encoder.layer.10.attention.self.value.weight\n",
      "bert.encoder.layer.10.attention.self.value.bias\n",
      "bert.encoder.layer.10.attention.output.dense.weight\n",
      "bert.encoder.layer.10.attention.output.dense.bias\n",
      "bert.encoder.layer.10.attention.output.LayerNorm.weight\n",
      "bert.encoder.layer.10.attention.output.LayerNorm.bias\n",
      "bert.encoder.layer.10.intermediate.dense.weight\n",
      "bert.encoder.layer.10.intermediate.dense.bias\n",
      "bert.encoder.layer.10.output.dense.weight\n",
      "bert.encoder.layer.10.output.dense.bias\n",
      "bert.encoder.layer.10.output.LayerNorm.weight\n",
      "bert.encoder.layer.10.output.LayerNorm.bias\n",
      "bert.encoder.layer.11.attention.self.query.weight\n",
      "bert.encoder.layer.11.attention.self.query.bias\n",
      "bert.encoder.layer.11.attention.self.key.weight\n",
      "bert.encoder.layer.11.attention.self.key.bias\n",
      "bert.encoder.layer.11.attention.self.value.weight\n",
      "bert.encoder.layer.11.attention.self.value.bias\n",
      "bert.encoder.layer.11.attention.output.dense.weight\n",
      "bert.encoder.layer.11.attention.output.dense.bias\n",
      "bert.encoder.layer.11.attention.output.LayerNorm.weight\n",
      "bert.encoder.layer.11.attention.output.LayerNorm.bias\n",
      "bert.encoder.layer.11.intermediate.dense.weight\n",
      "bert.encoder.layer.11.intermediate.dense.bias\n",
      "bert.encoder.layer.11.output.dense.weight\n",
      "bert.encoder.layer.11.output.dense.bias\n",
      "bert.encoder.layer.11.output.LayerNorm.weight\n",
      "bert.encoder.layer.11.output.LayerNorm.bias\n",
      "bert.pooler.dense.weight\n",
      "bert.pooler.dense.bias\n",
      "classifier.weight\n",
      "classifier.bias\n"
     ]
    },
    {
     "name": "stderr",
     "output_type": "stream",
     "text": [
      "The following columns in the training set don't have a corresponding argument in `BertForSequenceClassification.forward` and have been ignored: text. If text are not expected by `BertForSequenceClassification.forward`,  you can safely ignore this message.\n",
      "***** Running training *****\n",
      "  Num examples = 612349\n",
      "  Num Epochs = 10\n",
      "  Instantaneous batch size per device = 32\n",
      "  Total train batch size (w. parallel, distributed & accumulation) = 32\n",
      "  Gradient Accumulation steps = 1\n",
      "  Total optimization steps = 191360\n",
      "You're using a BertTokenizerFast tokenizer. Please note that with a fast tokenizer, using the `__call__` method is faster than using a method to encode the text followed by a call to the `pad` method to get a padded encoding.\n"
     ]
    },
    {
     "data": {
      "text/html": [
       "\n",
       "    <div>\n",
       "      \n",
       "      <progress value='40' max='191360' style='width:300px; height:20px; vertical-align: middle;'></progress>\n",
       "      [    40/191360 00:05 < 7:53:13, 6.74 it/s, Epoch 0.00/10]\n",
       "    </div>\n",
       "    <table border=\"1\" class=\"dataframe\">\n",
       "  <thead>\n",
       " <tr style=\"text-align: left;\">\n",
       "      <th>Epoch</th>\n",
       "      <th>Training Loss</th>\n",
       "      <th>Validation Loss</th>\n",
       "    </tr>\n",
       "  </thead>\n",
       "  <tbody>\n",
       "  </tbody>\n",
       "</table><p>"
      ],
      "text/plain": [
       "<IPython.core.display.HTML object>"
      ]
     },
     "metadata": {},
     "output_type": "display_data"
    },
    {
     "ename": "KeyboardInterrupt",
     "evalue": "",
     "output_type": "error",
     "traceback": [
      "\u001b[0;31m---------------------------------------------------------------------------\u001b[0m",
      "\u001b[0;31mKeyboardInterrupt\u001b[0m                         Traceback (most recent call last)",
      "Cell \u001b[0;32mIn [22], line 75\u001b[0m\n\u001b[1;32m     64\u001b[0m trainer \u001b[38;5;241m=\u001b[39m CustomTrainer(\n\u001b[1;32m     65\u001b[0m     model,\n\u001b[1;32m     66\u001b[0m     training_args,\n\u001b[0;32m   (...)\u001b[0m\n\u001b[1;32m     71\u001b[0m     callbacks\u001b[38;5;241m=\u001b[39m[earlystopping]\n\u001b[1;32m     72\u001b[0m )\n\u001b[1;32m     74\u001b[0m \u001b[38;5;66;03m# Call trainer.train to start training\u001b[39;00m\n\u001b[0;32m---> 75\u001b[0m \u001b[43mtrainer\u001b[49m\u001b[38;5;241;43m.\u001b[39;49m\u001b[43mtrain\u001b[49m\u001b[43m(\u001b[49m\u001b[43m)\u001b[49m\n",
      "File \u001b[0;32m~/.local/lib/python3.8/site-packages/transformers/trainer.py:1500\u001b[0m, in \u001b[0;36mTrainer.train\u001b[0;34m(self, resume_from_checkpoint, trial, ignore_keys_for_eval, **kwargs)\u001b[0m\n\u001b[1;32m   1495\u001b[0m     \u001b[38;5;28mself\u001b[39m\u001b[38;5;241m.\u001b[39mmodel_wrapped \u001b[38;5;241m=\u001b[39m \u001b[38;5;28mself\u001b[39m\u001b[38;5;241m.\u001b[39mmodel\n\u001b[1;32m   1497\u001b[0m inner_training_loop \u001b[38;5;241m=\u001b[39m find_executable_batch_size(\n\u001b[1;32m   1498\u001b[0m     \u001b[38;5;28mself\u001b[39m\u001b[38;5;241m.\u001b[39m_inner_training_loop, \u001b[38;5;28mself\u001b[39m\u001b[38;5;241m.\u001b[39m_train_batch_size, args\u001b[38;5;241m.\u001b[39mauto_find_batch_size\n\u001b[1;32m   1499\u001b[0m )\n\u001b[0;32m-> 1500\u001b[0m \u001b[38;5;28;01mreturn\u001b[39;00m \u001b[43minner_training_loop\u001b[49m\u001b[43m(\u001b[49m\n\u001b[1;32m   1501\u001b[0m \u001b[43m    \u001b[49m\u001b[43margs\u001b[49m\u001b[38;5;241;43m=\u001b[39;49m\u001b[43margs\u001b[49m\u001b[43m,\u001b[49m\n\u001b[1;32m   1502\u001b[0m \u001b[43m    \u001b[49m\u001b[43mresume_from_checkpoint\u001b[49m\u001b[38;5;241;43m=\u001b[39;49m\u001b[43mresume_from_checkpoint\u001b[49m\u001b[43m,\u001b[49m\n\u001b[1;32m   1503\u001b[0m \u001b[43m    \u001b[49m\u001b[43mtrial\u001b[49m\u001b[38;5;241;43m=\u001b[39;49m\u001b[43mtrial\u001b[49m\u001b[43m,\u001b[49m\n\u001b[1;32m   1504\u001b[0m \u001b[43m    \u001b[49m\u001b[43mignore_keys_for_eval\u001b[49m\u001b[38;5;241;43m=\u001b[39;49m\u001b[43mignore_keys_for_eval\u001b[49m\u001b[43m,\u001b[49m\n\u001b[1;32m   1505\u001b[0m \u001b[43m\u001b[49m\u001b[43m)\u001b[49m\n",
      "File \u001b[0;32m~/.local/lib/python3.8/site-packages/transformers/trainer.py:1744\u001b[0m, in \u001b[0;36mTrainer._inner_training_loop\u001b[0;34m(self, batch_size, args, resume_from_checkpoint, trial, ignore_keys_for_eval)\u001b[0m\n\u001b[1;32m   1741\u001b[0m \u001b[38;5;28;01melse\u001b[39;00m:\n\u001b[1;32m   1742\u001b[0m     tr_loss_step \u001b[38;5;241m=\u001b[39m \u001b[38;5;28mself\u001b[39m\u001b[38;5;241m.\u001b[39mtraining_step(model, inputs)\n\u001b[0;32m-> 1744\u001b[0m \u001b[38;5;28;01mif\u001b[39;00m (\n\u001b[1;32m   1745\u001b[0m     args\u001b[38;5;241m.\u001b[39mlogging_nan_inf_filter\n\u001b[1;32m   1746\u001b[0m     \u001b[38;5;129;01mand\u001b[39;00m \u001b[38;5;129;01mnot\u001b[39;00m is_torch_tpu_available()\n\u001b[1;32m   1747\u001b[0m     \u001b[38;5;129;01mand\u001b[39;00m (torch\u001b[38;5;241m.\u001b[39misnan(tr_loss_step) \u001b[38;5;129;01mor\u001b[39;00m torch\u001b[38;5;241m.\u001b[39misinf(tr_loss_step))\n\u001b[1;32m   1748\u001b[0m ):\n\u001b[1;32m   1749\u001b[0m     \u001b[38;5;66;03m# if loss is nan or inf simply add the average of previous logged losses\u001b[39;00m\n\u001b[1;32m   1750\u001b[0m     tr_loss \u001b[38;5;241m+\u001b[39m\u001b[38;5;241m=\u001b[39m tr_loss \u001b[38;5;241m/\u001b[39m (\u001b[38;5;241m1\u001b[39m \u001b[38;5;241m+\u001b[39m \u001b[38;5;28mself\u001b[39m\u001b[38;5;241m.\u001b[39mstate\u001b[38;5;241m.\u001b[39mglobal_step \u001b[38;5;241m-\u001b[39m \u001b[38;5;28mself\u001b[39m\u001b[38;5;241m.\u001b[39m_globalstep_last_logged)\n\u001b[1;32m   1751\u001b[0m \u001b[38;5;28;01melse\u001b[39;00m:\n",
      "\u001b[0;31mKeyboardInterrupt\u001b[0m: "
     ]
    }
   ],
   "source": [
    "print(f\"----Training BERT Base on Combined Dataset----\")\n",
    "\n",
    "### Number of Epochs\n",
    "epoch_no = 10\n",
    "### Learning Rate\n",
    "learning_rate = 2e-5\n",
    "### Adjust the batch size to avoid out-of-memory errors\n",
    "batch_size = 32 \n",
    "### Select random seed for finetuning\n",
    "seed = 0\n",
    "### Dropout Probability\n",
    "dropout_prob = 0.2\n",
    "### Number of encoder layers frozen\n",
    "num_encoder_freeze = 2\n",
    "\n",
    "### Define what pre-trained model checkpoint you want to use \n",
    "### Different pretrained models are available\n",
    "### E.g. ['bert-base-uncased', 'distilbert-base-uncased', 'distilroberta', 'roberta-base',...]\n",
    "### Different models have different training procedure and architecture and hence different performance\n",
    "model_checkpoint = \"bert-base-uncased\"\n",
    "\n",
    "### Tokenizer to preprocess the input before feeding into the model\n",
    "tokenizer = AutoTokenizer.from_pretrained(model_checkpoint, use_fast=True, model_max_length = seq_len)\n",
    "\n",
    "### 2 labels - 0 (Negative) or 1 (Positive)\n",
    "num_labels = 2\n",
    "\n",
    "### Using pretrained bert-base-uncased for Sentiment Classification\n",
    "### Classification dropout probability will follow hidden dropout probability by default\n",
    "config = BertConfig(hidden_dropout_prob = dropout_prob, attention_probs_dropout_prob=dropout_prob, num_labels=num_labels)\n",
    "model = BertForSequenceClassification.from_pretrained(model_checkpoint, num_labels=num_labels)\n",
    "print(f\"Pretrained Model for Combined Task: {model_checkpoint}\")\n",
    "\n",
    "### Freeze embedding layer and varying number of encoeder layers to prevent overfitting\n",
    "model = freeze_bert_layers(model, num_encoder_freeze) \n",
    "print_unfrozen_layers(model)\n",
    "\n",
    "### Introduce Early Stopping\n",
    "earlystopping = EarlyStoppingCallback(early_stopping_patience=3)\n",
    "\n",
    "### ---------------Define arguments for training---------------\n",
    "###`TrainingArguments` is a class that contains all the attributes to customize \n",
    "### the training. It requires one folder name, which will be used to save the checkpoints \n",
    "### of the model, and all other arguments are optional:\n",
    "training_args = TrainingArguments(\n",
    "    f\"./BERT-Combined-{seed}\", #Creates a directory named as provided\n",
    "    evaluation_strategy = \"epoch\", # Evaluate every epoch\n",
    "    save_strategy = \"epoch\", # Save every epoch\n",
    "    logging_strategy = \"epoch\", # Log every epoch\n",
    "    save_total_limit = 1, # Only save one epoch data (the best one)\n",
    "    learning_rate=learning_rate, # Learning rate - typically 2e-5 is used\n",
    "    per_device_train_batch_size=batch_size, # Training Batch Size\n",
    "    per_device_eval_batch_size=batch_size, # Validation Batch Size\n",
    "    num_train_epochs=epoch_no, # Number of Epochs\n",
    "    weight_decay=0.01, #Weight regularization\n",
    "    load_best_model_at_end=True, \n",
    "    metric_for_best_model=\"accuracy\", # Criteria for \"Best\" model \n",
    "    optim=\"adamw_torch\", #Optimizer\n",
    "    warmup_ratio = 0.1, \n",
    "    seed=seed\n",
    ")\n",
    "\n",
    "\n",
    "trainer = CustomTrainer(\n",
    "    model,\n",
    "    training_args,\n",
    "    train_dataset=train_ds, # Train dataset\n",
    "    eval_dataset=val_ds, # Val dataset\n",
    "    tokenizer=tokenizer,\n",
    "    compute_metrics=compute_metrics,\n",
    "    callbacks=[earlystopping]\n",
    ")\n",
    "\n",
    "# Call trainer.train to start training\n",
    "trainer.train()"
   ]
  },
  {
   "cell_type": "markdown",
   "id": "1b6192d4",
   "metadata": {},
   "source": [
    "### Plotting Training and Validation Loss and Accuracy Curves"
   ]
  },
  {
   "cell_type": "code",
   "execution_count": 24,
   "id": "366ffaf4",
   "metadata": {},
   "outputs": [],
   "source": [
    "### Function to extract training history from json file           \n",
    "def get_history(filename):\n",
    "    num_epochs_trained = 0\n",
    "    train_loss_list = []\n",
    "    train_acc_list = []\n",
    "    val_loss_list = []\n",
    "    val_acc_list = []\n",
    "    \n",
    "    f = open(filename, \"r\")\n",
    "    history = json.load(f)['log_history']\n",
    "    \n",
    "    for i in range(0, len(history), 2):\n",
    "        num_epochs_trained += 1\n",
    "        # Train \n",
    "        train_loss_list.append(history[i]['loss'])\n",
    "        train_acc_list.append(history[i]['accuracy'])\n",
    "        \n",
    "        # Validation\n",
    "        val_loss_list.append(history[i + 1]['eval_loss'])\n",
    "        val_acc_list.append(history[i + 1]['eval_accuracy'])\n",
    "    \n",
    "    return num_epochs_trained, train_loss_list, train_acc_list, val_loss_list, val_acc_list"
   ]
  },
  {
   "cell_type": "code",
   "execution_count": 25,
   "id": "70fba098",
   "metadata": {},
   "outputs": [
    {
     "data": {
      "text/plain": [
       "Text(0.5, 1.0, 'Training vs Validation Accuracy')"
      ]
     },
     "execution_count": 25,
     "metadata": {},
     "output_type": "execute_result"
    },
    {
     "data": {
      "image/png": "[encoded data removed]",
      "text/plain": [
       "<Figure size 1200x600 with 2 Axes>"
      ]
     },
     "metadata": {},
     "output_type": "display_data"
    }
   ],
   "source": [
    "# num_epochs_trained, train_loss_list, train_acc_list, val_loss_list, val_acc_list = get_history(\"./BERT-Combined-0/checkpoint-7820/trainer_state.json\")\n",
    "num_epochs_trained, train_loss_list, train_acc_list, val_loss_list, val_acc_list = get_history(\"/home/weiming/Desktop/Untitled Folder/CE4042/trainer_state.json\")\n",
    "\n",
    "epoch_list = [i for i in range(num_epochs_trained)]\n",
    "_, ax = plt.subplots(nrows = 1, ncols=2, figsize=(12,6))\n",
    "ax[0].plot(epoch_list, train_loss_list)\n",
    "ax[0].plot(epoch_list, val_loss_list)\n",
    "ax[0].legend([\"Train Loss\", \"Validation Loss\"])\n",
    "ax[0].set_xlabel(\"Epoch\")\n",
    "ax[0].set_ylabel(\"Loss\")\n",
    "ax[0].set_title(\"Training vs Validation Loss\")\n",
    "\n",
    "ax[1].plot(epoch_list, train_acc_list)\n",
    "ax[1].plot(epoch_list, val_acc_list)\n",
    "ax[1].legend([\"Train Accuracy\", \"Validation Accuracy\"])\n",
    "ax[1].set_ylabel(\"Accuracy\")\n",
    "ax[1].set_title(\"Training vs Validation Accuracy\")"
   ]
  },
  {
   "cell_type": "code",
   "execution_count": null,
   "id": "981249ee",
   "metadata": {},
   "outputs": [],
   "source": []
  }
 ],
 "metadata": {
  "kernelspec": {
   "display_name": "Python 3 (ipykernel)",
   "language": "python",
   "name": "python3"
  },
  "language_info": {
   "codemirror_mode": {
    "name": "ipython",
    "version": 3
   },
   "file_extension": ".py",
   "mimetype": "text/x-python",
   "name": "python",
   "nbconvert_exporter": "python",
   "pygments_lexer": "ipython3",
   "version": "3.8.10"
  }
 },
 "nbformat": 4,
 "nbformat_minor": 5
}
